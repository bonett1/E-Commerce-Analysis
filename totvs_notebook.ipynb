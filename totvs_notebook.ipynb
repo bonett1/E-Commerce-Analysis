{
 "cells": [
  {
   "cell_type": "markdown",
   "id": "22a4c08a",
   "metadata": {},
   "source": [
    "# 1. Importação de Bibliotecas"
   ]
  },
  {
   "cell_type": "code",
   "execution_count": 82,
   "id": "2169443c",
   "metadata": {},
   "outputs": [],
   "source": [
    "import pandas as pd # Biblioteca para manipulação de dados\n",
    "import numpy as np   # Biblioteca para operações numéricas\n",
    "\n",
    "import matplotlib.pyplot as plt  # Biblioteca para visualização de dados\n",
    "import seaborn as sns  # Biblioteca para visualização de dados\n",
    "\n",
    "from collections import defaultdict  # Estrutura para agrupar itens em listas\n",
    "\n",
    "from urllib.parse import quote_plus\n",
    "import getpass\n",
    "import urllib\n",
    "from sqlalchemy import create_engine"
   ]
  },
  {
   "cell_type": "markdown",
   "id": "c8a567cf",
   "metadata": {},
   "source": [
    "# 2. Leitura e Explorando a tabela Dados Clientes"
   ]
  },
  {
   "cell_type": "code",
   "execution_count": 83,
   "id": "c39f741e",
   "metadata": {},
   "outputs": [],
   "source": [
    "df_clientes = pd.read_csv(r\"src/dados_clientes.csv\", sep=';')  # Leitura do arquivo CSV de clientes"
   ]
  },
  {
   "cell_type": "code",
   "execution_count": 84,
   "id": "5069c2d4",
   "metadata": {},
   "outputs": [
    {
     "name": "stdout",
     "output_type": "stream",
     "text": [
      "<class 'pandas.core.frame.DataFrame'>\n",
      "RangeIndex: 238597 entries, 0 to 238596\n",
      "Data columns (total 16 columns):\n",
      " #   Column                  Non-Null Count   Dtype \n",
      "---  ------                  --------------   ----- \n",
      " 0   CD_CLIENTE              238597 non-null  object\n",
      " 1   DS_PROD                 238597 non-null  object\n",
      " 2   DS_LIN_REC              238597 non-null  object\n",
      " 3   CIDADE                  238597 non-null  object\n",
      " 4   DS_CNAE                 238597 non-null  object\n",
      " 5   DS_SEGMENTO             238597 non-null  object\n",
      " 6   DS_SUBSEGMENTO          238553 non-null  object\n",
      " 7   FAT_FAIXA               238597 non-null  object\n",
      " 8   MARCA_TOTVS             237693 non-null  object\n",
      " 9   MODAL_COMERC            226965 non-null  object\n",
      " 10  PAIS                    238597 non-null  int64 \n",
      " 11  PERIODICIDADE           238531 non-null  object\n",
      " 12  SITUACAO_CONTRATO       238096 non-null  object\n",
      " 13  UF                      238597 non-null  object\n",
      " 14  VL_TOTAL_CONTRATO       238597 non-null  object\n",
      " 15  DT_ASSINATURA_CONTRATO  238597 non-null  object\n",
      "dtypes: int64(1), object(15)\n",
      "memory usage: 29.1+ MB\n"
     ]
    }
   ],
   "source": [
    "df_clientes.info()  # Exibe informações gerais sobre o DataFrame"
   ]
  },
  {
   "cell_type": "markdown",
   "id": "21c9146d",
   "metadata": {},
   "source": [
    "# 3. Limpeza dos Dados"
   ]
  },
  {
   "cell_type": "code",
   "execution_count": 85,
   "id": "69764687",
   "metadata": {},
   "outputs": [
    {
     "name": "stdout",
     "output_type": "stream",
     "text": [
      "<class 'pandas.core.frame.DataFrame'>\n",
      "Index: 226346 entries, 0 to 238596\n",
      "Data columns (total 16 columns):\n",
      " #   Column                  Non-Null Count   Dtype \n",
      "---  ------                  --------------   ----- \n",
      " 0   CD_CLIENTE              226346 non-null  object\n",
      " 1   DS_PROD                 226346 non-null  object\n",
      " 2   DS_LIN_REC              226346 non-null  object\n",
      " 3   CIDADE                  226346 non-null  object\n",
      " 4   DS_CNAE                 226346 non-null  object\n",
      " 5   DS_SEGMENTO             226346 non-null  object\n",
      " 6   DS_SUBSEGMENTO          226346 non-null  object\n",
      " 7   FAT_FAIXA               226346 non-null  object\n",
      " 8   MARCA_TOTVS             226346 non-null  object\n",
      " 9   MODAL_COMERC            226346 non-null  object\n",
      " 10  PAIS                    226346 non-null  int64 \n",
      " 11  PERIODICIDADE           226346 non-null  object\n",
      " 12  SITUACAO_CONTRATO       226346 non-null  object\n",
      " 13  UF                      226346 non-null  object\n",
      " 14  VL_TOTAL_CONTRATO       226346 non-null  object\n",
      " 15  DT_ASSINATURA_CONTRATO  226346 non-null  object\n",
      "dtypes: int64(1), object(15)\n",
      "memory usage: 29.4+ MB\n"
     ]
    }
   ],
   "source": [
    "df_clientes_att = df_clientes.dropna()  # Remove linhas com valores ausentes\n",
    "df_clientes_att.info()  # Exibe informações do DataFrame limpo"
   ]
  },
  {
   "cell_type": "markdown",
   "id": "21313a4f",
   "metadata": {},
   "source": [
    "# 4. Filtragem por Segmento de Interesse"
   ]
  },
  {
   "cell_type": "code",
   "execution_count": 86,
   "id": "4087c348",
   "metadata": {},
   "outputs": [
    {
     "data": {
      "text/plain": [
       "((226346, 16), (36424, 16))"
      ]
     },
     "execution_count": 86,
     "metadata": {},
     "output_type": "execute_result"
    }
   ],
   "source": [
    "df_clientes_varejo = df_clientes_att[df_clientes_att.DS_SEGMENTO == 'SERVICOS']  # Seleciona apenas clientes do segmento 'SERVICOS'\n",
    "df_clientes_att.shape, df_clientes_varejo.shape  # Mostra o tamanho dos DataFrames antes e depois do filtro"
   ]
  },
  {
   "cell_type": "markdown",
   "id": "0c14069a",
   "metadata": {},
   "source": [
    "# 5. Agrupamento de Produtos por Nicho"
   ]
  },
  {
   "cell_type": "code",
   "execution_count": 87,
   "id": "2ea1ff03",
   "metadata": {},
   "outputs": [],
   "source": [
    "itens = df_clientes_varejo.DS_PROD.unique()  # Lista de produtos únicos\n",
    "\n",
    "# Dicionário de nichos e palavras-chave associadas\n",
    "nichos = {\n",
    "    \"SaaS\": [\"SAAS\"],\n",
    "    \"Cloud\": [\"CLOUD\", \"CLOUDFICACAO\"],\n",
    "    \"Consultoria\": [\"CONSULTORIA\"],\n",
    "    \"Educação\": [\"EDUCACAO\", \"CURSOS\"],\n",
    "    \"CRM\": [\"CRM\"],\n",
    "    \"Financeiro / Techfin\": [\"TECHFIN\", \"RECEITA\", \"NFCE\"],\n",
    "    \"Hardware\": [\"HARDWARE\"],\n",
    "    \"Serviços Mensalizados\": [\"MENSALIZADOS\"],\n",
    "    \"Integração / Plataforma\": [\"PLATAFORMA\", \"PVT\", \"CMNET\"],\n",
    "    \"Inteligência de Mercado\": [\"INTELIGENCIA\"]\n",
    "}\n",
    "\n",
    "agrupados = defaultdict(list)  # Dicionário para agrupar produtos por nicho\n",
    "\n",
    "# Loop para classificar cada produto em um nicho\n",
    "for item in itens:\n",
    "    item_upper = item.upper()\n",
    "    encontrado = False\n",
    "    for nicho, palavras in nichos.items():\n",
    "        if any(palavra in item_upper for palavra in palavras):\n",
    "            agrupados[nicho].append(item)\n",
    "            encontrado = True\n",
    "            break\n",
    "    if not encontrado:\n",
    "        agrupados[\"Outros\"].append(item)  # Produtos que não se encaixam em nenhum nicho vão para 'Outros'\n"
   ]
  },
  {
   "cell_type": "markdown",
   "id": "adcb8bc1",
   "metadata": {},
   "source": [
    "# 6. Criação do DataFrame de Nichos"
   ]
  },
  {
   "cell_type": "code",
   "execution_count": 88,
   "id": "ed7235a1",
   "metadata": {},
   "outputs": [
    {
     "data": {
      "text/plain": [
       "(3060, (3060, 2))"
      ]
     },
     "execution_count": 88,
     "metadata": {},
     "output_type": "execute_result"
    }
   ],
   "source": [
    "dados_nichos = []\n",
    "for nicho, lista in agrupados.items():\n",
    "    for segmento in lista:\n",
    "        dados_nichos.append((segmento, nicho))  # Cria tuplas (produto, nicho)\n",
    "\n",
    "df_nichos = pd.DataFrame(dados_nichos, columns=[\"DS_PROD\", \"NICHO\"])  # DataFrame com produtos e seus nichos\n",
    "df_clientes_varejo.DS_PROD.nunique(), df_nichos.shape  # Mostra quantidade de produtos únicos e tamanho do DataFrame de nichos\n"
   ]
  },
  {
   "cell_type": "markdown",
   "id": "02a23373",
   "metadata": {},
   "source": [
    "# 7. Junção dos Dados de Nicho ao DataFrame Principal"
   ]
  },
  {
   "cell_type": "code",
   "execution_count": 89,
   "id": "46756316",
   "metadata": {},
   "outputs": [],
   "source": [
    "df_clientes_varejo_att = df_clientes_varejo.merge(df_nichos, how='left', on='DS_PROD')  # Junta os nichos ao DataFrame principal"
   ]
  },
  {
   "cell_type": "markdown",
   "id": "cce65a9e",
   "metadata": {},
   "source": [
    "# 8. Visualização dos Dados Enriquecidos"
   ]
  },
  {
   "cell_type": "code",
   "execution_count": 90,
   "id": "a242cc7b",
   "metadata": {},
   "outputs": [
    {
     "data": {
      "text/html": [
       "<div>\n",
       "<style scoped>\n",
       "    .dataframe tbody tr th:only-of-type {\n",
       "        vertical-align: middle;\n",
       "    }\n",
       "\n",
       "    .dataframe tbody tr th {\n",
       "        vertical-align: top;\n",
       "    }\n",
       "\n",
       "    .dataframe thead th {\n",
       "        text-align: right;\n",
       "    }\n",
       "</style>\n",
       "<table border=\"1\" class=\"dataframe\">\n",
       "  <thead>\n",
       "    <tr style=\"text-align: right;\">\n",
       "      <th></th>\n",
       "      <th>CD_CLIENTE</th>\n",
       "      <th>DS_PROD</th>\n",
       "      <th>DS_LIN_REC</th>\n",
       "      <th>CIDADE</th>\n",
       "      <th>DS_CNAE</th>\n",
       "      <th>DS_SEGMENTO</th>\n",
       "      <th>DS_SUBSEGMENTO</th>\n",
       "      <th>FAT_FAIXA</th>\n",
       "      <th>MARCA_TOTVS</th>\n",
       "      <th>MODAL_COMERC</th>\n",
       "      <th>PAIS</th>\n",
       "      <th>PERIODICIDADE</th>\n",
       "      <th>SITUACAO_CONTRATO</th>\n",
       "      <th>UF</th>\n",
       "      <th>VL_TOTAL_CONTRATO</th>\n",
       "      <th>DT_ASSINATURA_CONTRATO</th>\n",
       "      <th>NICHO</th>\n",
       "    </tr>\n",
       "  </thead>\n",
       "  <tbody>\n",
       "    <tr>\n",
       "      <th>0</th>\n",
       "      <td>99958</td>\n",
       "      <td>SMS FULL TOTVS TRAD</td>\n",
       "      <td>SMS TOTVS SERIE T</td>\n",
       "      <td>JOINVILLE</td>\n",
       "      <td>PESSOA FISICA (SEM CNAE)</td>\n",
       "      <td>SERVICOS</td>\n",
       "      <td>PROVEDOR SERVICOS</td>\n",
       "      <td>Faixa 09 - De 300 M ate 500 M</td>\n",
       "      <td>CROSS - TRADICIONAL</td>\n",
       "      <td>MODALIDADE TRADICIONAL</td>\n",
       "      <td>105</td>\n",
       "      <td>00 - Mensal</td>\n",
       "      <td>GRATUITO</td>\n",
       "      <td>SC</td>\n",
       "      <td>1633817,36581438</td>\n",
       "      <td>2016-04-07</td>\n",
       "      <td>Outros</td>\n",
       "    </tr>\n",
       "    <tr>\n",
       "      <th>1</th>\n",
       "      <td>99958</td>\n",
       "      <td>CDU FULL TOTVS TRAD</td>\n",
       "      <td>CDU TOTVS SERIE T</td>\n",
       "      <td>JOINVILLE</td>\n",
       "      <td>PESSOA FISICA (SEM CNAE)</td>\n",
       "      <td>SERVICOS</td>\n",
       "      <td>PROVEDOR SERVICOS</td>\n",
       "      <td>Faixa 09 - De 300 M ate 500 M</td>\n",
       "      <td>CROSS - TRADICIONAL</td>\n",
       "      <td>MODALIDADE TRADICIONAL</td>\n",
       "      <td>105</td>\n",
       "      <td>00 - Mensal</td>\n",
       "      <td>GRATUITO</td>\n",
       "      <td>SC</td>\n",
       "      <td>42,0343698218297</td>\n",
       "      <td>2016-04-07</td>\n",
       "      <td>Outros</td>\n",
       "    </tr>\n",
       "    <tr>\n",
       "      <th>2</th>\n",
       "      <td>T00018</td>\n",
       "      <td>FEE - GDS INTERNACIONAL</td>\n",
       "      <td>RECEITA TRANSACIONAL</td>\n",
       "      <td>SAOPAULO</td>\n",
       "      <td>Hoteis</td>\n",
       "      <td>SERVICOS</td>\n",
       "      <td>VIAGENS</td>\n",
       "      <td>Faixa 02 - De 7,5 M ate 15 M</td>\n",
       "      <td>HOSPITALIDADE - CORE</td>\n",
       "      <td>MODALIDADE SERVICOS RECORRENTES</td>\n",
       "      <td>105</td>\n",
       "      <td>00 - Mensal</td>\n",
       "      <td>CANCELADO</td>\n",
       "      <td>SP</td>\n",
       "      <td>0,420385736791976</td>\n",
       "      <td>2002-01-01</td>\n",
       "      <td>Outros</td>\n",
       "    </tr>\n",
       "    <tr>\n",
       "      <th>3</th>\n",
       "      <td>T00018</td>\n",
       "      <td>ASSINATURA MENSAL INTERNET CMN</td>\n",
       "      <td>SERVICOS CMNET RESERVAS</td>\n",
       "      <td>SAOPAULO</td>\n",
       "      <td>Hoteis</td>\n",
       "      <td>SERVICOS</td>\n",
       "      <td>VIAGENS</td>\n",
       "      <td>Faixa 02 - De 7,5 M ate 15 M</td>\n",
       "      <td>HOSPITALIDADE - CORE</td>\n",
       "      <td>MODALIDADE SERVICOS RECORRENTES</td>\n",
       "      <td>105</td>\n",
       "      <td>00 - Mensal</td>\n",
       "      <td>CANCELADO</td>\n",
       "      <td>SP</td>\n",
       "      <td>0,739878896753878</td>\n",
       "      <td>2002-01-01</td>\n",
       "      <td>Outros</td>\n",
       "    </tr>\n",
       "    <tr>\n",
       "      <th>4</th>\n",
       "      <td>T00018</td>\n",
       "      <td>SMS LGT G. CAP HUMANO TRAD</td>\n",
       "      <td>SMS TOTVS SERIE T</td>\n",
       "      <td>SAOPAULO</td>\n",
       "      <td>Hoteis</td>\n",
       "      <td>SERVICOS</td>\n",
       "      <td>VIAGENS</td>\n",
       "      <td>Faixa 02 - De 7,5 M ate 15 M</td>\n",
       "      <td>RH - CORE</td>\n",
       "      <td>MODALIDADE TRADICIONAL</td>\n",
       "      <td>105</td>\n",
       "      <td>00 - Mensal</td>\n",
       "      <td>ATIVO</td>\n",
       "      <td>SP</td>\n",
       "      <td>203,063126299996</td>\n",
       "      <td>2015-09-02</td>\n",
       "      <td>Outros</td>\n",
       "    </tr>\n",
       "    <tr>\n",
       "      <th>5</th>\n",
       "      <td>T00018</td>\n",
       "      <td>SMS LGT G. CAP HUMANO TRAD</td>\n",
       "      <td>SMS TOTVS SERIE T</td>\n",
       "      <td>SAOPAULO</td>\n",
       "      <td>Hoteis</td>\n",
       "      <td>SERVICOS</td>\n",
       "      <td>VIAGENS</td>\n",
       "      <td>Faixa 02 - De 7,5 M ate 15 M</td>\n",
       "      <td>RH - CORE</td>\n",
       "      <td>MODALIDADE TRADICIONAL</td>\n",
       "      <td>105</td>\n",
       "      <td>00 - Mensal</td>\n",
       "      <td>GRATUITO</td>\n",
       "      <td>SP</td>\n",
       "      <td>0,0126115721037593</td>\n",
       "      <td>2015-09-02</td>\n",
       "      <td>Outros</td>\n",
       "    </tr>\n",
       "    <tr>\n",
       "      <th>6</th>\n",
       "      <td>T00018</td>\n",
       "      <td>FEE - GDS NACIONAL</td>\n",
       "      <td>RECEITA TRANSACIONAL</td>\n",
       "      <td>SAOPAULO</td>\n",
       "      <td>Hoteis</td>\n",
       "      <td>SERVICOS</td>\n",
       "      <td>VIAGENS</td>\n",
       "      <td>Faixa 02 - De 7,5 M ate 15 M</td>\n",
       "      <td>HOSPITALIDADE - CORE</td>\n",
       "      <td>MODALIDADE SERVICOS RECORRENTES</td>\n",
       "      <td>105</td>\n",
       "      <td>00 - Mensal</td>\n",
       "      <td>CANCELADO</td>\n",
       "      <td>SP</td>\n",
       "      <td>0,420385736791976</td>\n",
       "      <td>2002-01-01</td>\n",
       "      <td>Outros</td>\n",
       "    </tr>\n",
       "    <tr>\n",
       "      <th>7</th>\n",
       "      <td>99958</td>\n",
       "      <td>SMS FULL TOTVS ALUG</td>\n",
       "      <td>SAAS SMS ALUGUEL</td>\n",
       "      <td>JOINVILLE</td>\n",
       "      <td>PESSOA FISICA (SEM CNAE)</td>\n",
       "      <td>SERVICOS</td>\n",
       "      <td>PROVEDOR SERVICOS</td>\n",
       "      <td>Faixa 09 - De 300 M ate 500 M</td>\n",
       "      <td>CROSS - TRADICIONAL</td>\n",
       "      <td>MODALIDADE ALUGUEL (LEGADO)</td>\n",
       "      <td>105</td>\n",
       "      <td>00 - Mensal</td>\n",
       "      <td>GRATUITO</td>\n",
       "      <td>SC</td>\n",
       "      <td>56,5544931706245</td>\n",
       "      <td>2016-04-07</td>\n",
       "      <td>Outros</td>\n",
       "    </tr>\n",
       "    <tr>\n",
       "      <th>8</th>\n",
       "      <td>T00361</td>\n",
       "      <td>PONTO DE VENDA  POS &gt; 1 ID</td>\n",
       "      <td>SAAS CMNET THEX</td>\n",
       "      <td>SAOPAULO</td>\n",
       "      <td>OUTRAS ATIVIDADES ASSOCIATIVAS PROFISSIONAIS</td>\n",
       "      <td>SERVICOS</td>\n",
       "      <td>PROVEDOR SERVICOS</td>\n",
       "      <td>Sem Informações de Faturamento</td>\n",
       "      <td>HOSPITALIDADE - CORE</td>\n",
       "      <td>MODALIDADE ASSINATURA COMPLEMENTAR</td>\n",
       "      <td>105</td>\n",
       "      <td>00 - Mensal</td>\n",
       "      <td>CANCELADO</td>\n",
       "      <td>SP</td>\n",
       "      <td>222,682528636078</td>\n",
       "      <td>2021-10-14</td>\n",
       "      <td>Outros</td>\n",
       "    </tr>\n",
       "    <tr>\n",
       "      <th>9</th>\n",
       "      <td>T00018</td>\n",
       "      <td>SMS TOTVS TEC USER</td>\n",
       "      <td>SMS TOTVS SERIE T</td>\n",
       "      <td>SAOPAULO</td>\n",
       "      <td>Hoteis</td>\n",
       "      <td>SERVICOS</td>\n",
       "      <td>VIAGENS</td>\n",
       "      <td>Faixa 02 - De 7,5 M ate 15 M</td>\n",
       "      <td>TECNOLOGIA</td>\n",
       "      <td>MODALIDADE TRADICIONAL</td>\n",
       "      <td>105</td>\n",
       "      <td>00 - Mensal</td>\n",
       "      <td>GRATUITO</td>\n",
       "      <td>SP</td>\n",
       "      <td>0,0210192868395988</td>\n",
       "      <td>2015-09-02</td>\n",
       "      <td>Outros</td>\n",
       "    </tr>\n",
       "  </tbody>\n",
       "</table>\n",
       "</div>"
      ],
      "text/plain": [
       "  CD_CLIENTE                         DS_PROD               DS_LIN_REC  \\\n",
       "0      99958             SMS FULL TOTVS TRAD        SMS TOTVS SERIE T   \n",
       "1      99958             CDU FULL TOTVS TRAD        CDU TOTVS SERIE T   \n",
       "2     T00018         FEE - GDS INTERNACIONAL     RECEITA TRANSACIONAL   \n",
       "3     T00018  ASSINATURA MENSAL INTERNET CMN  SERVICOS CMNET RESERVAS   \n",
       "4     T00018      SMS LGT G. CAP HUMANO TRAD        SMS TOTVS SERIE T   \n",
       "5     T00018      SMS LGT G. CAP HUMANO TRAD        SMS TOTVS SERIE T   \n",
       "6     T00018              FEE - GDS NACIONAL     RECEITA TRANSACIONAL   \n",
       "7      99958             SMS FULL TOTVS ALUG         SAAS SMS ALUGUEL   \n",
       "8     T00361      PONTO DE VENDA  POS > 1 ID          SAAS CMNET THEX   \n",
       "9     T00018              SMS TOTVS TEC USER        SMS TOTVS SERIE T   \n",
       "\n",
       "      CIDADE                                       DS_CNAE DS_SEGMENTO  \\\n",
       "0  JOINVILLE                      PESSOA FISICA (SEM CNAE)    SERVICOS   \n",
       "1  JOINVILLE                      PESSOA FISICA (SEM CNAE)    SERVICOS   \n",
       "2   SAOPAULO                                        Hoteis    SERVICOS   \n",
       "3   SAOPAULO                                        Hoteis    SERVICOS   \n",
       "4   SAOPAULO                                        Hoteis    SERVICOS   \n",
       "5   SAOPAULO                                        Hoteis    SERVICOS   \n",
       "6   SAOPAULO                                        Hoteis    SERVICOS   \n",
       "7  JOINVILLE                      PESSOA FISICA (SEM CNAE)    SERVICOS   \n",
       "8   SAOPAULO  OUTRAS ATIVIDADES ASSOCIATIVAS PROFISSIONAIS    SERVICOS   \n",
       "9   SAOPAULO                                        Hoteis    SERVICOS   \n",
       "\n",
       "      DS_SUBSEGMENTO                       FAT_FAIXA           MARCA_TOTVS  \\\n",
       "0  PROVEDOR SERVICOS   Faixa 09 - De 300 M ate 500 M   CROSS - TRADICIONAL   \n",
       "1  PROVEDOR SERVICOS   Faixa 09 - De 300 M ate 500 M   CROSS - TRADICIONAL   \n",
       "2            VIAGENS    Faixa 02 - De 7,5 M ate 15 M  HOSPITALIDADE - CORE   \n",
       "3            VIAGENS    Faixa 02 - De 7,5 M ate 15 M  HOSPITALIDADE - CORE   \n",
       "4            VIAGENS    Faixa 02 - De 7,5 M ate 15 M             RH - CORE   \n",
       "5            VIAGENS    Faixa 02 - De 7,5 M ate 15 M             RH - CORE   \n",
       "6            VIAGENS    Faixa 02 - De 7,5 M ate 15 M  HOSPITALIDADE - CORE   \n",
       "7  PROVEDOR SERVICOS   Faixa 09 - De 300 M ate 500 M   CROSS - TRADICIONAL   \n",
       "8  PROVEDOR SERVICOS  Sem Informações de Faturamento  HOSPITALIDADE - CORE   \n",
       "9            VIAGENS    Faixa 02 - De 7,5 M ate 15 M            TECNOLOGIA   \n",
       "\n",
       "                         MODAL_COMERC  PAIS PERIODICIDADE SITUACAO_CONTRATO  \\\n",
       "0              MODALIDADE TRADICIONAL   105   00 - Mensal          GRATUITO   \n",
       "1              MODALIDADE TRADICIONAL   105   00 - Mensal          GRATUITO   \n",
       "2     MODALIDADE SERVICOS RECORRENTES   105   00 - Mensal         CANCELADO   \n",
       "3     MODALIDADE SERVICOS RECORRENTES   105   00 - Mensal         CANCELADO   \n",
       "4              MODALIDADE TRADICIONAL   105   00 - Mensal             ATIVO   \n",
       "5              MODALIDADE TRADICIONAL   105   00 - Mensal          GRATUITO   \n",
       "6     MODALIDADE SERVICOS RECORRENTES   105   00 - Mensal         CANCELADO   \n",
       "7         MODALIDADE ALUGUEL (LEGADO)   105   00 - Mensal          GRATUITO   \n",
       "8  MODALIDADE ASSINATURA COMPLEMENTAR   105   00 - Mensal         CANCELADO   \n",
       "9              MODALIDADE TRADICIONAL   105   00 - Mensal          GRATUITO   \n",
       "\n",
       "   UF   VL_TOTAL_CONTRATO DT_ASSINATURA_CONTRATO   NICHO  \n",
       "0  SC    1633817,36581438             2016-04-07  Outros  \n",
       "1  SC    42,0343698218297             2016-04-07  Outros  \n",
       "2  SP   0,420385736791976             2002-01-01  Outros  \n",
       "3  SP   0,739878896753878             2002-01-01  Outros  \n",
       "4  SP    203,063126299996             2015-09-02  Outros  \n",
       "5  SP  0,0126115721037593             2015-09-02  Outros  \n",
       "6  SP   0,420385736791976             2002-01-01  Outros  \n",
       "7  SC    56,5544931706245             2016-04-07  Outros  \n",
       "8  SP    222,682528636078             2021-10-14  Outros  \n",
       "9  SP  0,0210192868395988             2015-09-02  Outros  "
      ]
     },
     "execution_count": 90,
     "metadata": {},
     "output_type": "execute_result"
    }
   ],
   "source": [
    "df_clientes_varejo_att.head(10)  # Exibe as 10 primeiras linhas do DataFrame enriquecido"
   ]
  },
  {
   "cell_type": "markdown",
   "id": "f10036ae",
   "metadata": {},
   "source": [
    "# 9. Criação de Coluna de Trimestre"
   ]
  },
  {
   "cell_type": "code",
   "execution_count": 91,
   "id": "e01e933c",
   "metadata": {},
   "outputs": [],
   "source": [
    "df_clientes_varejo_att['QUARTER'] = pd.to_datetime(df_clientes_varejo_att.DT_ASSINATURA_CONTRATO).dt.quarter  # Extrai o trimestre da data de assinatura"
   ]
  },
  {
   "cell_type": "markdown",
   "id": "236ae7a3",
   "metadata": {},
   "source": [
    "# 10. Análise de Quantidade de Clientes por Nicho e Trimestre"
   ]
  },
  {
   "cell_type": "code",
   "execution_count": 92,
   "id": "0030a6c8",
   "metadata": {},
   "outputs": [
    {
     "data": {
      "text/html": [
       "<div>\n",
       "<style scoped>\n",
       "    .dataframe tbody tr th:only-of-type {\n",
       "        vertical-align: middle;\n",
       "    }\n",
       "\n",
       "    .dataframe tbody tr th {\n",
       "        vertical-align: top;\n",
       "    }\n",
       "\n",
       "    .dataframe thead th {\n",
       "        text-align: right;\n",
       "    }\n",
       "</style>\n",
       "<table border=\"1\" class=\"dataframe\">\n",
       "  <thead>\n",
       "    <tr style=\"text-align: right;\">\n",
       "      <th></th>\n",
       "      <th>NICHO</th>\n",
       "      <th>QUARTER</th>\n",
       "      <th>count</th>\n",
       "    </tr>\n",
       "  </thead>\n",
       "  <tbody>\n",
       "    <tr>\n",
       "      <th>0</th>\n",
       "      <td>CRM</td>\n",
       "      <td>1</td>\n",
       "      <td>36</td>\n",
       "    </tr>\n",
       "    <tr>\n",
       "      <th>1</th>\n",
       "      <td>CRM</td>\n",
       "      <td>2</td>\n",
       "      <td>72</td>\n",
       "    </tr>\n",
       "    <tr>\n",
       "      <th>2</th>\n",
       "      <td>CRM</td>\n",
       "      <td>3</td>\n",
       "      <td>45</td>\n",
       "    </tr>\n",
       "    <tr>\n",
       "      <th>3</th>\n",
       "      <td>CRM</td>\n",
       "      <td>4</td>\n",
       "      <td>61</td>\n",
       "    </tr>\n",
       "    <tr>\n",
       "      <th>4</th>\n",
       "      <td>Cloud</td>\n",
       "      <td>1</td>\n",
       "      <td>429</td>\n",
       "    </tr>\n",
       "    <tr>\n",
       "      <th>5</th>\n",
       "      <td>Cloud</td>\n",
       "      <td>2</td>\n",
       "      <td>441</td>\n",
       "    </tr>\n",
       "    <tr>\n",
       "      <th>6</th>\n",
       "      <td>Cloud</td>\n",
       "      <td>3</td>\n",
       "      <td>472</td>\n",
       "    </tr>\n",
       "    <tr>\n",
       "      <th>7</th>\n",
       "      <td>Cloud</td>\n",
       "      <td>4</td>\n",
       "      <td>663</td>\n",
       "    </tr>\n",
       "    <tr>\n",
       "      <th>8</th>\n",
       "      <td>Consultoria</td>\n",
       "      <td>3</td>\n",
       "      <td>1</td>\n",
       "    </tr>\n",
       "    <tr>\n",
       "      <th>9</th>\n",
       "      <td>Consultoria</td>\n",
       "      <td>4</td>\n",
       "      <td>2</td>\n",
       "    </tr>\n",
       "    <tr>\n",
       "      <th>10</th>\n",
       "      <td>Financeiro / Techfin</td>\n",
       "      <td>1</td>\n",
       "      <td>107</td>\n",
       "    </tr>\n",
       "    <tr>\n",
       "      <th>11</th>\n",
       "      <td>Financeiro / Techfin</td>\n",
       "      <td>2</td>\n",
       "      <td>87</td>\n",
       "    </tr>\n",
       "    <tr>\n",
       "      <th>12</th>\n",
       "      <td>Financeiro / Techfin</td>\n",
       "      <td>3</td>\n",
       "      <td>201</td>\n",
       "    </tr>\n",
       "    <tr>\n",
       "      <th>13</th>\n",
       "      <td>Financeiro / Techfin</td>\n",
       "      <td>4</td>\n",
       "      <td>104</td>\n",
       "    </tr>\n",
       "    <tr>\n",
       "      <th>14</th>\n",
       "      <td>Hardware</td>\n",
       "      <td>3</td>\n",
       "      <td>2</td>\n",
       "    </tr>\n",
       "    <tr>\n",
       "      <th>15</th>\n",
       "      <td>Integração / Plataforma</td>\n",
       "      <td>1</td>\n",
       "      <td>32</td>\n",
       "    </tr>\n",
       "    <tr>\n",
       "      <th>16</th>\n",
       "      <td>Integração / Plataforma</td>\n",
       "      <td>2</td>\n",
       "      <td>41</td>\n",
       "    </tr>\n",
       "    <tr>\n",
       "      <th>17</th>\n",
       "      <td>Integração / Plataforma</td>\n",
       "      <td>3</td>\n",
       "      <td>46</td>\n",
       "    </tr>\n",
       "    <tr>\n",
       "      <th>18</th>\n",
       "      <td>Integração / Plataforma</td>\n",
       "      <td>4</td>\n",
       "      <td>48</td>\n",
       "    </tr>\n",
       "    <tr>\n",
       "      <th>19</th>\n",
       "      <td>Outros</td>\n",
       "      <td>1</td>\n",
       "      <td>7764</td>\n",
       "    </tr>\n",
       "    <tr>\n",
       "      <th>20</th>\n",
       "      <td>Outros</td>\n",
       "      <td>2</td>\n",
       "      <td>7804</td>\n",
       "    </tr>\n",
       "    <tr>\n",
       "      <th>21</th>\n",
       "      <td>Outros</td>\n",
       "      <td>3</td>\n",
       "      <td>7932</td>\n",
       "    </tr>\n",
       "    <tr>\n",
       "      <th>22</th>\n",
       "      <td>Outros</td>\n",
       "      <td>4</td>\n",
       "      <td>9764</td>\n",
       "    </tr>\n",
       "    <tr>\n",
       "      <th>23</th>\n",
       "      <td>SaaS</td>\n",
       "      <td>1</td>\n",
       "      <td>105</td>\n",
       "    </tr>\n",
       "    <tr>\n",
       "      <th>24</th>\n",
       "      <td>SaaS</td>\n",
       "      <td>2</td>\n",
       "      <td>51</td>\n",
       "    </tr>\n",
       "    <tr>\n",
       "      <th>25</th>\n",
       "      <td>SaaS</td>\n",
       "      <td>3</td>\n",
       "      <td>59</td>\n",
       "    </tr>\n",
       "    <tr>\n",
       "      <th>26</th>\n",
       "      <td>SaaS</td>\n",
       "      <td>4</td>\n",
       "      <td>55</td>\n",
       "    </tr>\n",
       "  </tbody>\n",
       "</table>\n",
       "</div>"
      ],
      "text/plain": [
       "                      NICHO  QUARTER  count\n",
       "0                       CRM        1     36\n",
       "1                       CRM        2     72\n",
       "2                       CRM        3     45\n",
       "3                       CRM        4     61\n",
       "4                     Cloud        1    429\n",
       "5                     Cloud        2    441\n",
       "6                     Cloud        3    472\n",
       "7                     Cloud        4    663\n",
       "8               Consultoria        3      1\n",
       "9               Consultoria        4      2\n",
       "10     Financeiro / Techfin        1    107\n",
       "11     Financeiro / Techfin        2     87\n",
       "12     Financeiro / Techfin        3    201\n",
       "13     Financeiro / Techfin        4    104\n",
       "14                 Hardware        3      2\n",
       "15  Integração / Plataforma        1     32\n",
       "16  Integração / Plataforma        2     41\n",
       "17  Integração / Plataforma        3     46\n",
       "18  Integração / Plataforma        4     48\n",
       "19                   Outros        1   7764\n",
       "20                   Outros        2   7804\n",
       "21                   Outros        3   7932\n",
       "22                   Outros        4   9764\n",
       "23                     SaaS        1    105\n",
       "24                     SaaS        2     51\n",
       "25                     SaaS        3     59\n",
       "26                     SaaS        4     55"
      ]
     },
     "execution_count": 92,
     "metadata": {},
     "output_type": "execute_result"
    }
   ],
   "source": [
    "df_clientes_varejo_att.groupby(['NICHO', 'QUARTER']).NICHO.value_counts().reset_index()  # Agrupa e conta clientes por nicho e trimestre"
   ]
  },
  {
   "cell_type": "code",
   "execution_count": 93,
   "id": "c3d88c1f",
   "metadata": {},
   "outputs": [
    {
     "name": "stdout",
     "output_type": "stream",
     "text": [
      "<class 'pandas.core.frame.DataFrame'>\n",
      "RangeIndex: 36424 entries, 0 to 36423\n",
      "Data columns (total 18 columns):\n",
      " #   Column                  Non-Null Count  Dtype \n",
      "---  ------                  --------------  ----- \n",
      " 0   CD_CLIENTE              36424 non-null  object\n",
      " 1   DS_PROD                 36424 non-null  object\n",
      " 2   DS_LIN_REC              36424 non-null  object\n",
      " 3   CIDADE                  36424 non-null  object\n",
      " 4   DS_CNAE                 36424 non-null  object\n",
      " 5   DS_SEGMENTO             36424 non-null  object\n",
      " 6   DS_SUBSEGMENTO          36424 non-null  object\n",
      " 7   FAT_FAIXA               36424 non-null  object\n",
      " 8   MARCA_TOTVS             36424 non-null  object\n",
      " 9   MODAL_COMERC            36424 non-null  object\n",
      " 10  PAIS                    36424 non-null  int64 \n",
      " 11  PERIODICIDADE           36424 non-null  object\n",
      " 12  SITUACAO_CONTRATO       36424 non-null  object\n",
      " 13  UF                      36424 non-null  object\n",
      " 14  VL_TOTAL_CONTRATO       36424 non-null  object\n",
      " 15  DT_ASSINATURA_CONTRATO  36424 non-null  object\n",
      " 16  NICHO                   36424 non-null  object\n",
      " 17  QUARTER                 36424 non-null  int32 \n",
      "dtypes: int32(1), int64(1), object(16)\n",
      "memory usage: 4.9+ MB\n"
     ]
    }
   ],
   "source": [
    "df_clientes_varejo_att.info() # Exibe informações do DataFrame enriquecido"
   ]
  },
  {
   "cell_type": "markdown",
   "id": "95ff43ba",
   "metadata": {},
   "source": [
    "# 11. Alterando tipo dos dados"
   ]
  },
  {
   "cell_type": "code",
   "execution_count": 94,
   "id": "d47398ac",
   "metadata": {},
   "outputs": [],
   "source": [
    "#tipos de dados\n",
    "df_clientes_varejo_att['CD_CLIENTE'] = df_clientes_varejo_att['CD_CLIENTE'].astype('string')  # Converte coluna para tipo string\n",
    "df_clientes_varejo_att['DS_PROD'] = df_clientes_varejo_att['DS_PROD'].astype('string')  # Converte coluna para tipo string\n",
    "df_clientes_varejo_att['DS_LIN_REC'] = df_clientes_varejo_att['DS_LIN_REC'].astype('string')  # Converte coluna para tipo string\n",
    "df_clientes_varejo_att['CIDADE'] = df_clientes_varejo_att['CIDADE'].astype('category')  # Converte coluna para tipo categórico\n",
    "df_clientes_varejo_att['DS_CNAE'] = df_clientes_varejo_att['DS_CNAE'].astype('category')  # Converte coluna para tipo categórico\n",
    "df_clientes_varejo_att['DS_SEGMENTO'] = df_clientes_varejo_att['DS_SEGMENTO'].astype('string')  # Converte coluna para tipo string\n",
    "df_clientes_varejo_att['DS_SUBSEGMENTO'] = df_clientes_varejo_att['DS_SUBSEGMENTO'].astype('string')  # Converte coluna para tipo string\n",
    "df_clientes_varejo_att['FAT_FAIXA'] = df_clientes_varejo_att['FAT_FAIXA'].astype('string')  # Converte coluna para tipo string\n",
    "df_clientes_varejo_att['MARCA_TOTVS'] = df_clientes_varejo_att['MARCA_TOTVS'].astype('string')  # Converte coluna para tipo string\n",
    "df_clientes_varejo_att['MODAL_COMERC'] = df_clientes_varejo_att['MODAL_COMERC'].astype('category')  # Converte coluna para tipo categórico\n",
    "df_clientes_varejo_att['PERIODICIDADE'] = df_clientes_varejo_att['PERIODICIDADE'].astype('string')  # Converte coluna para tipo string\n",
    "df_clientes_varejo_att['SITUACAO_CONTRATO'] = df_clientes_varejo_att['SITUACAO_CONTRATO'].astype('category')  # Converte coluna para tipo categórico\n",
    "df_clientes_varejo_att['UF'] = df_clientes_varejo_att['UF'].astype('category')  # Converte coluna para tipo categórico\n",
    "df_clientes_varejo_att['VL_TOTAL_CONTRATO'] = df_clientes_varejo_att['VL_TOTAL_CONTRATO'].str.replace(',','.', regex=False).astype(float).round(2)  # Converte coluna para tipo categórico\n",
    "df_clientes_varejo_att['DT_ASSINATURA_CONTRATO'] = pd.to_datetime(df_clientes_varejo_att['DT_ASSINATURA_CONTRATO'])  # Converte coluna para tipo date\n",
    "df_clientes_varejo_att['NICHO'] = df_clientes_varejo_att['NICHO'].astype('category')  # Converte coluna para tipo categórico"
   ]
  },
  {
   "cell_type": "code",
   "execution_count": 95,
   "id": "dd172cff",
   "metadata": {},
   "outputs": [
    {
     "name": "stdout",
     "output_type": "stream",
     "text": [
      "<class 'pandas.core.frame.DataFrame'>\n",
      "RangeIndex: 36424 entries, 0 to 36423\n",
      "Data columns (total 18 columns):\n",
      " #   Column                  Non-Null Count  Dtype         \n",
      "---  ------                  --------------  -----         \n",
      " 0   CD_CLIENTE              36424 non-null  string        \n",
      " 1   DS_PROD                 36424 non-null  string        \n",
      " 2   DS_LIN_REC              36424 non-null  string        \n",
      " 3   CIDADE                  36424 non-null  category      \n",
      " 4   DS_CNAE                 36424 non-null  category      \n",
      " 5   DS_SEGMENTO             36424 non-null  string        \n",
      " 6   DS_SUBSEGMENTO          36424 non-null  string        \n",
      " 7   FAT_FAIXA               36424 non-null  string        \n",
      " 8   MARCA_TOTVS             36424 non-null  string        \n",
      " 9   MODAL_COMERC            36424 non-null  category      \n",
      " 10  PAIS                    36424 non-null  int64         \n",
      " 11  PERIODICIDADE           36424 non-null  string        \n",
      " 12  SITUACAO_CONTRATO       36424 non-null  category      \n",
      " 13  UF                      36424 non-null  category      \n",
      " 14  VL_TOTAL_CONTRATO       36424 non-null  float64       \n",
      " 15  DT_ASSINATURA_CONTRATO  36424 non-null  datetime64[ns]\n",
      " 16  NICHO                   36424 non-null  category      \n",
      " 17  QUARTER                 36424 non-null  int32         \n",
      "dtypes: category(6), datetime64[ns](1), float64(1), int32(1), int64(1), string(8)\n",
      "memory usage: 3.5 MB\n"
     ]
    }
   ],
   "source": [
    "df_clientes_varejo_att.info() # Exibe informações do DataFrame enriquecido após conversões de tipo"
   ]
  },
  {
   "cell_type": "code",
   "execution_count": 96,
   "id": "54157630",
   "metadata": {},
   "outputs": [
    {
     "data": {
      "text/html": [
       "<div>\n",
       "<style scoped>\n",
       "    .dataframe tbody tr th:only-of-type {\n",
       "        vertical-align: middle;\n",
       "    }\n",
       "\n",
       "    .dataframe tbody tr th {\n",
       "        vertical-align: top;\n",
       "    }\n",
       "\n",
       "    .dataframe thead th {\n",
       "        text-align: right;\n",
       "    }\n",
       "</style>\n",
       "<table border=\"1\" class=\"dataframe\">\n",
       "  <thead>\n",
       "    <tr style=\"text-align: right;\">\n",
       "      <th></th>\n",
       "      <th>CD_CLIENTE</th>\n",
       "      <th>DS_PROD</th>\n",
       "      <th>DS_LIN_REC</th>\n",
       "      <th>CIDADE</th>\n",
       "      <th>DS_CNAE</th>\n",
       "      <th>DS_SEGMENTO</th>\n",
       "      <th>DS_SUBSEGMENTO</th>\n",
       "      <th>FAT_FAIXA</th>\n",
       "      <th>MARCA_TOTVS</th>\n",
       "      <th>MODAL_COMERC</th>\n",
       "      <th>PAIS</th>\n",
       "      <th>PERIODICIDADE</th>\n",
       "      <th>SITUACAO_CONTRATO</th>\n",
       "      <th>UF</th>\n",
       "      <th>VL_TOTAL_CONTRATO</th>\n",
       "      <th>DT_ASSINATURA_CONTRATO</th>\n",
       "      <th>NICHO</th>\n",
       "      <th>QUARTER</th>\n",
       "    </tr>\n",
       "  </thead>\n",
       "  <tbody>\n",
       "    <tr>\n",
       "      <th>0</th>\n",
       "      <td>99958</td>\n",
       "      <td>SMS FULL TOTVS TRAD</td>\n",
       "      <td>SMS TOTVS SERIE T</td>\n",
       "      <td>JOINVILLE</td>\n",
       "      <td>PESSOA FISICA (SEM CNAE)</td>\n",
       "      <td>SERVICOS</td>\n",
       "      <td>PROVEDOR SERVICOS</td>\n",
       "      <td>Faixa 09 - De 300 M ate 500 M</td>\n",
       "      <td>CROSS - TRADICIONAL</td>\n",
       "      <td>MODALIDADE TRADICIONAL</td>\n",
       "      <td>105</td>\n",
       "      <td>00 - Mensal</td>\n",
       "      <td>GRATUITO</td>\n",
       "      <td>SC</td>\n",
       "      <td>1633817.37</td>\n",
       "      <td>2016-04-07</td>\n",
       "      <td>Outros</td>\n",
       "      <td>2</td>\n",
       "    </tr>\n",
       "    <tr>\n",
       "      <th>1</th>\n",
       "      <td>99958</td>\n",
       "      <td>CDU FULL TOTVS TRAD</td>\n",
       "      <td>CDU TOTVS SERIE T</td>\n",
       "      <td>JOINVILLE</td>\n",
       "      <td>PESSOA FISICA (SEM CNAE)</td>\n",
       "      <td>SERVICOS</td>\n",
       "      <td>PROVEDOR SERVICOS</td>\n",
       "      <td>Faixa 09 - De 300 M ate 500 M</td>\n",
       "      <td>CROSS - TRADICIONAL</td>\n",
       "      <td>MODALIDADE TRADICIONAL</td>\n",
       "      <td>105</td>\n",
       "      <td>00 - Mensal</td>\n",
       "      <td>GRATUITO</td>\n",
       "      <td>SC</td>\n",
       "      <td>42.03</td>\n",
       "      <td>2016-04-07</td>\n",
       "      <td>Outros</td>\n",
       "      <td>2</td>\n",
       "    </tr>\n",
       "  </tbody>\n",
       "</table>\n",
       "</div>"
      ],
      "text/plain": [
       "  CD_CLIENTE              DS_PROD         DS_LIN_REC     CIDADE  \\\n",
       "0      99958  SMS FULL TOTVS TRAD  SMS TOTVS SERIE T  JOINVILLE   \n",
       "1      99958  CDU FULL TOTVS TRAD  CDU TOTVS SERIE T  JOINVILLE   \n",
       "\n",
       "                    DS_CNAE DS_SEGMENTO     DS_SUBSEGMENTO  \\\n",
       "0  PESSOA FISICA (SEM CNAE)    SERVICOS  PROVEDOR SERVICOS   \n",
       "1  PESSOA FISICA (SEM CNAE)    SERVICOS  PROVEDOR SERVICOS   \n",
       "\n",
       "                       FAT_FAIXA          MARCA_TOTVS            MODAL_COMERC  \\\n",
       "0  Faixa 09 - De 300 M ate 500 M  CROSS - TRADICIONAL  MODALIDADE TRADICIONAL   \n",
       "1  Faixa 09 - De 300 M ate 500 M  CROSS - TRADICIONAL  MODALIDADE TRADICIONAL   \n",
       "\n",
       "   PAIS PERIODICIDADE SITUACAO_CONTRATO  UF  VL_TOTAL_CONTRATO  \\\n",
       "0   105   00 - Mensal          GRATUITO  SC         1633817.37   \n",
       "1   105   00 - Mensal          GRATUITO  SC              42.03   \n",
       "\n",
       "  DT_ASSINATURA_CONTRATO   NICHO  QUARTER  \n",
       "0             2016-04-07  Outros        2  \n",
       "1             2016-04-07  Outros        2  "
      ]
     },
     "execution_count": 96,
     "metadata": {},
     "output_type": "execute_result"
    }
   ],
   "source": [
    "df_clientes_varejo_att.head(2)"
   ]
  },
  {
   "cell_type": "markdown",
   "id": "42f1a174",
   "metadata": {},
   "source": [
    "# 12. Removendo linhas duplicadas"
   ]
  },
  {
   "cell_type": "code",
   "execution_count": 97,
   "id": "02fcd490",
   "metadata": {},
   "outputs": [
    {
     "data": {
      "text/plain": [
       "(207, 18)"
      ]
     },
     "execution_count": 97,
     "metadata": {},
     "output_type": "execute_result"
    }
   ],
   "source": [
    "duplicadas = df_clientes_varejo_att[df_clientes_varejo_att.duplicated(keep=False)]  # Identifica linhas duplicadas\n",
    "duplicadas.shape  # Mostra o tamanho do DataFrame de linhas duplicadas"
   ]
  },
  {
   "cell_type": "code",
   "execution_count": 98,
   "id": "5a1d63c8",
   "metadata": {},
   "outputs": [
    {
     "data": {
      "text/html": [
       "<div>\n",
       "<style scoped>\n",
       "    .dataframe tbody tr th:only-of-type {\n",
       "        vertical-align: middle;\n",
       "    }\n",
       "\n",
       "    .dataframe tbody tr th {\n",
       "        vertical-align: top;\n",
       "    }\n",
       "\n",
       "    .dataframe thead th {\n",
       "        text-align: right;\n",
       "    }\n",
       "</style>\n",
       "<table border=\"1\" class=\"dataframe\">\n",
       "  <thead>\n",
       "    <tr style=\"text-align: right;\">\n",
       "      <th></th>\n",
       "      <th>CD_CLIENTE</th>\n",
       "      <th>DS_PROD</th>\n",
       "      <th>DS_LIN_REC</th>\n",
       "      <th>CIDADE</th>\n",
       "      <th>DS_CNAE</th>\n",
       "      <th>DS_SEGMENTO</th>\n",
       "      <th>DS_SUBSEGMENTO</th>\n",
       "      <th>FAT_FAIXA</th>\n",
       "      <th>MARCA_TOTVS</th>\n",
       "      <th>MODAL_COMERC</th>\n",
       "      <th>PAIS</th>\n",
       "      <th>PERIODICIDADE</th>\n",
       "      <th>SITUACAO_CONTRATO</th>\n",
       "      <th>UF</th>\n",
       "      <th>VL_TOTAL_CONTRATO</th>\n",
       "      <th>DT_ASSINATURA_CONTRATO</th>\n",
       "      <th>NICHO</th>\n",
       "      <th>QUARTER</th>\n",
       "    </tr>\n",
       "  </thead>\n",
       "  <tbody>\n",
       "    <tr>\n",
       "      <th>80</th>\n",
       "      <td>T00788</td>\n",
       "      <td>E-LEARNING CENTER</td>\n",
       "      <td>SAAS EDUCACAO CORPORATIVA</td>\n",
       "      <td>JAGUARIUNA</td>\n",
       "      <td>Desenvolvimento de programas de computador sob...</td>\n",
       "      <td>SERVICOS</td>\n",
       "      <td>PROVEDOR SERVICOS</td>\n",
       "      <td>Faixa 11 - Acima de 850 M</td>\n",
       "      <td>EDUCACIONAL - CORE</td>\n",
       "      <td>MODALIDADE SERVICOS RECORRENTES</td>\n",
       "      <td>105</td>\n",
       "      <td>00 - Mensal</td>\n",
       "      <td>CANCELADO</td>\n",
       "      <td>SP</td>\n",
       "      <td>13.39</td>\n",
       "      <td>2014-01-22</td>\n",
       "      <td>Outros</td>\n",
       "      <td>1</td>\n",
       "    </tr>\n",
       "    <tr>\n",
       "      <th>117</th>\n",
       "      <td>T00788</td>\n",
       "      <td>SMS TOTVS TEC USER</td>\n",
       "      <td>SMS TOTVS SERIE T</td>\n",
       "      <td>JAGUARIUNA</td>\n",
       "      <td>Desenvolvimento de programas de computador sob...</td>\n",
       "      <td>SERVICOS</td>\n",
       "      <td>PROVEDOR SERVICOS</td>\n",
       "      <td>Faixa 11 - Acima de 850 M</td>\n",
       "      <td>TECNOLOGIA</td>\n",
       "      <td>MODALIDADE TRADICIONAL</td>\n",
       "      <td>105</td>\n",
       "      <td>00 - Mensal</td>\n",
       "      <td>ATIVO</td>\n",
       "      <td>SP</td>\n",
       "      <td>3.72</td>\n",
       "      <td>2022-07-29</td>\n",
       "      <td>Outros</td>\n",
       "      <td>3</td>\n",
       "    </tr>\n",
       "    <tr>\n",
       "      <th>134</th>\n",
       "      <td>T00788</td>\n",
       "      <td>E-LEARNING CENTER</td>\n",
       "      <td>SAAS EDUCACAO CORPORATIVA</td>\n",
       "      <td>JAGUARIUNA</td>\n",
       "      <td>Desenvolvimento de programas de computador sob...</td>\n",
       "      <td>SERVICOS</td>\n",
       "      <td>PROVEDOR SERVICOS</td>\n",
       "      <td>Faixa 11 - Acima de 850 M</td>\n",
       "      <td>EDUCACIONAL - CORE</td>\n",
       "      <td>MODALIDADE SERVICOS RECORRENTES</td>\n",
       "      <td>105</td>\n",
       "      <td>00 - Mensal</td>\n",
       "      <td>CANCELADO</td>\n",
       "      <td>SP</td>\n",
       "      <td>13.39</td>\n",
       "      <td>2014-01-22</td>\n",
       "      <td>Outros</td>\n",
       "      <td>1</td>\n",
       "    </tr>\n",
       "    <tr>\n",
       "      <th>136</th>\n",
       "      <td>T00788</td>\n",
       "      <td>SMS TOTVS TEC USER</td>\n",
       "      <td>SMS TOTVS SERIE T</td>\n",
       "      <td>JAGUARIUNA</td>\n",
       "      <td>Desenvolvimento de programas de computador sob...</td>\n",
       "      <td>SERVICOS</td>\n",
       "      <td>PROVEDOR SERVICOS</td>\n",
       "      <td>Faixa 11 - Acima de 850 M</td>\n",
       "      <td>TECNOLOGIA</td>\n",
       "      <td>MODALIDADE TRADICIONAL</td>\n",
       "      <td>105</td>\n",
       "      <td>00 - Mensal</td>\n",
       "      <td>ATIVO</td>\n",
       "      <td>SP</td>\n",
       "      <td>3.72</td>\n",
       "      <td>2022-07-29</td>\n",
       "      <td>Outros</td>\n",
       "      <td>3</td>\n",
       "    </tr>\n",
       "    <tr>\n",
       "      <th>2298</th>\n",
       "      <td>T16221</td>\n",
       "      <td>SMS LGT MNT DE ATIVOS TRAD</td>\n",
       "      <td>SMS TOTVS SERIE T</td>\n",
       "      <td>RIODEJANEIRO</td>\n",
       "      <td>Aluguel de outras maquinas e equipamentos come...</td>\n",
       "      <td>SERVICOS</td>\n",
       "      <td>PROVEDOR SERVICOS</td>\n",
       "      <td>Faixa 06 - De 50 M ate 75 M</td>\n",
       "      <td>MANUFATURA - CORE</td>\n",
       "      <td>MODALIDADE TRADICIONAL</td>\n",
       "      <td>105</td>\n",
       "      <td>00 - Mensal</td>\n",
       "      <td>CANCELADO</td>\n",
       "      <td>RJ</td>\n",
       "      <td>287.28</td>\n",
       "      <td>2012-01-02</td>\n",
       "      <td>Outros</td>\n",
       "      <td>1</td>\n",
       "    </tr>\n",
       "  </tbody>\n",
       "</table>\n",
       "</div>"
      ],
      "text/plain": [
       "     CD_CLIENTE                     DS_PROD                 DS_LIN_REC  \\\n",
       "80       T00788           E-LEARNING CENTER  SAAS EDUCACAO CORPORATIVA   \n",
       "117      T00788          SMS TOTVS TEC USER          SMS TOTVS SERIE T   \n",
       "134      T00788           E-LEARNING CENTER  SAAS EDUCACAO CORPORATIVA   \n",
       "136      T00788          SMS TOTVS TEC USER          SMS TOTVS SERIE T   \n",
       "2298     T16221  SMS LGT MNT DE ATIVOS TRAD          SMS TOTVS SERIE T   \n",
       "\n",
       "            CIDADE                                            DS_CNAE  \\\n",
       "80      JAGUARIUNA  Desenvolvimento de programas de computador sob...   \n",
       "117     JAGUARIUNA  Desenvolvimento de programas de computador sob...   \n",
       "134     JAGUARIUNA  Desenvolvimento de programas de computador sob...   \n",
       "136     JAGUARIUNA  Desenvolvimento de programas de computador sob...   \n",
       "2298  RIODEJANEIRO  Aluguel de outras maquinas e equipamentos come...   \n",
       "\n",
       "     DS_SEGMENTO     DS_SUBSEGMENTO                    FAT_FAIXA  \\\n",
       "80      SERVICOS  PROVEDOR SERVICOS    Faixa 11 - Acima de 850 M   \n",
       "117     SERVICOS  PROVEDOR SERVICOS    Faixa 11 - Acima de 850 M   \n",
       "134     SERVICOS  PROVEDOR SERVICOS    Faixa 11 - Acima de 850 M   \n",
       "136     SERVICOS  PROVEDOR SERVICOS    Faixa 11 - Acima de 850 M   \n",
       "2298    SERVICOS  PROVEDOR SERVICOS  Faixa 06 - De 50 M ate 75 M   \n",
       "\n",
       "             MARCA_TOTVS                     MODAL_COMERC  PAIS PERIODICIDADE  \\\n",
       "80    EDUCACIONAL - CORE  MODALIDADE SERVICOS RECORRENTES   105   00 - Mensal   \n",
       "117           TECNOLOGIA           MODALIDADE TRADICIONAL   105   00 - Mensal   \n",
       "134   EDUCACIONAL - CORE  MODALIDADE SERVICOS RECORRENTES   105   00 - Mensal   \n",
       "136           TECNOLOGIA           MODALIDADE TRADICIONAL   105   00 - Mensal   \n",
       "2298   MANUFATURA - CORE           MODALIDADE TRADICIONAL   105   00 - Mensal   \n",
       "\n",
       "     SITUACAO_CONTRATO  UF  VL_TOTAL_CONTRATO DT_ASSINATURA_CONTRATO   NICHO  \\\n",
       "80           CANCELADO  SP              13.39             2014-01-22  Outros   \n",
       "117              ATIVO  SP               3.72             2022-07-29  Outros   \n",
       "134          CANCELADO  SP              13.39             2014-01-22  Outros   \n",
       "136              ATIVO  SP               3.72             2022-07-29  Outros   \n",
       "2298         CANCELADO  RJ             287.28             2012-01-02  Outros   \n",
       "\n",
       "      QUARTER  \n",
       "80          1  \n",
       "117         3  \n",
       "134         1  \n",
       "136         3  \n",
       "2298        1  "
      ]
     },
     "execution_count": 98,
     "metadata": {},
     "output_type": "execute_result"
    }
   ],
   "source": [
    "duplicadas.head()  # Exibindo as linhas duplicadas"
   ]
  },
  {
   "cell_type": "code",
   "execution_count": 99,
   "id": "55187538",
   "metadata": {},
   "outputs": [],
   "source": [
    "# Remover as duplicatas (mantendo a primeira ocorrência)\n",
    "df_clientes_varejo_att = df_clientes_varejo_att.drop_duplicates(keep=False)  # Remove duplicatas"
   ]
  },
  {
   "cell_type": "markdown",
   "id": "ce130d1f",
   "metadata": {},
   "source": [
    "# 13. Investigação de outliers"
   ]
  },
  {
   "cell_type": "markdown",
   "id": "67fd4526",
   "metadata": {},
   "source": [
    "### 13.1 Investigando VL_TOTAL_CONTRATO POR NICHO"
   ]
  },
  {
   "cell_type": "code",
   "execution_count": 100,
   "id": "31f1de3a",
   "metadata": {},
   "outputs": [
    {
     "data": {
      "image/png": "[encoded data removed]",
      "text/plain": [
       "<Figure size 1000x1000 with 1 Axes>"
      ]
     },
     "metadata": {},
     "output_type": "display_data"
    }
   ],
   "source": [
    "#carregar variaveis para plot\n",
    "variaveis_numericas = df_clientes_varejo_att[['VL_TOTAL_CONTRATO','NICHO']]  # Lista de variáveis numéricas para plotagem\n",
    "\n",
    "plt.rcParams[\"figure.figsize\"] = [10.00, 10.00] # Parâmetro de tamanho da figura\n",
    "plt.rcParams[\"figure.autolayout\"] = True # Parâmetro de layout da figura\n",
    "\n",
    "plt.rcParams['font.size'] = 10 # Parâmetro de tamanho da fonte\n",
    "plt.rcParams['axes.titlesize'] = 20 # Parâmetro de tamanho do título dos eixos\n",
    "\n",
    "sns.boxplot(data = variaveis_numericas, x='NICHO', y='VL_TOTAL_CONTRATO')  # Boxplot para o nicho\n",
    "\n",
    "plt.show() # Exibir boxplot"
   ]
  },
  {
   "cell_type": "markdown",
   "id": "fd1dda67",
   "metadata": {},
   "source": [
    "### 13.2 Investigando VL_TOTAL_CONTRATO"
   ]
  },
  {
   "cell_type": "code",
   "execution_count": 101,
   "id": "c1cd245c",
   "metadata": {},
   "outputs": [
    {
     "name": "stderr",
     "output_type": "stream",
     "text": [
      "/home/codespace/.local/lib/python3.12/site-packages/IPython/core/pylabtools.py:170: UserWarning: Tight layout not applied. The left and right margins cannot be made large enough to accommodate all Axes decorations.\n",
      "  fig.canvas.print_figure(bytes_io, **kw)\n"
     ]
    },
    {
     "data": {
      "image/png": "[encoded data removed]",
      "text/plain": [
       "<Figure size 800x800 with 1 Axes>"
      ]
     },
     "metadata": {},
     "output_type": "display_data"
    }
   ],
   "source": [
    "# Dados\n",
    "valores = df_clientes_varejo_att[\"VL_TOTAL_CONTRATO\"]\n",
    "\n",
    "# Cálculo dos quartis e IQR\n",
    "q1 = valores.quantile(0.25)\n",
    "q2 = valores.quantile(0.50)\n",
    "q3 = valores.quantile(0.75)\n",
    "iqr = q3 - q1\n",
    "\n",
    "lim_inferior = q1 - 1.5 * iqr\n",
    "lim_superior = q3 + 1.5 * iqr\n",
    "\n",
    "# Plot\n",
    "plt.figure(figsize=(8, 8))\n",
    "sns.boxplot(data=df_clientes_varejo_att, y=\"VL_TOTAL_CONTRATO\", orient='v')\n",
    "\n",
    "# Anotações dos quartis\n",
    "plt.text(1, q1, f\"Q1: {q1:.2f}\", color=\"blue\")\n",
    "plt.text(1.2, q2, f\"Q2: {q2:.2f}\", color=\"green\")\n",
    "plt.text(1.6, q3, f\"Q3: {q3:.2f}\", color=\"red\")\n",
    "\n",
    "# Titulo e rótulos\n",
    "plt.title(\"Boxplot de Vendas\")\n",
    "plt.ylabel(\"Valor do Contrato\")\n",
    "plt.grid(True, axis='y')\n",
    "\n",
    "\n",
    "# Exibe o gráfico\n",
    "plt.show()\n"
   ]
  },
  {
   "cell_type": "markdown",
   "id": "190aed02",
   "metadata": {},
   "source": [
    "### 13.3 Exibindo os 3 Outliers que se destacaram"
   ]
  },
  {
   "cell_type": "code",
   "execution_count": 102,
   "id": "ca75c2fe",
   "metadata": {},
   "outputs": [
    {
     "name": "stdout",
     "output_type": "stream",
     "text": [
      "Tamanho original: 36217\n",
      "Quantidade de outliers: 5411\n",
      "Tamanho sem outliers: 30806\n"
     ]
    }
   ],
   "source": [
    "#Número de Outliers\n",
    "outliers = df_clientes_varejo_att[(df_clientes_varejo_att[\"VL_TOTAL_CONTRATO\"] < lim_inferior) | (df_clientes_varejo_att[\"VL_TOTAL_CONTRATO\"] > lim_superior)]\n",
    "\n",
    "# Filtrando o DataFrame sem outliers\n",
    "df_sem_outliers = df_clientes_varejo_att[(df_clientes_varejo_att['VL_TOTAL_CONTRATO'] >= lim_inferior) & (df_clientes_varejo_att['VL_TOTAL_CONTRATO'] <= lim_superior)]\n",
    "\n",
    "# Exibindo os resultados\n",
    "print(f'Tamanho original: {df_clientes_varejo_att.shape[0]}')\n",
    "print(f\"Quantidade de outliers: {len(outliers)}\")\n",
    "print(f'Tamanho sem outliers: {df_sem_outliers.shape[0]}')"
   ]
  },
  {
   "cell_type": "markdown",
   "id": "312effb2",
   "metadata": {},
   "source": [
    "### 13.4 Comparação antes e após a remoção dos outliers"
   ]
  },
  {
   "cell_type": "code",
   "execution_count": 103,
   "id": "545da410",
   "metadata": {},
   "outputs": [
    {
     "name": "stderr",
     "output_type": "stream",
     "text": [
      "/tmp/ipykernel_5787/3521918929.py:7: SettingWithCopyWarning: \n",
      "A value is trying to be set on a copy of a slice from a DataFrame.\n",
      "Try using .loc[row_indexer,col_indexer] = value instead\n",
      "\n",
      "See the caveats in the documentation: https://pandas.pydata.org/pandas-docs/stable/user_guide/indexing.html#returning-a-view-versus-a-copy\n",
      "  df_sem_outliers['VL_TOTAL_CONTRATO_NORM'] = df_sem_outliers['VL_TOTAL_CONTRATO'] / df_clientes_varejo_att['VL_TOTAL_CONTRATO'].max()\n"
     ]
    },
    {
     "data": {
      "image/png": "[encoded data removed]",
      "text/plain": [
       "<Figure size 1200x600 with 2 Axes>"
      ]
     },
     "metadata": {},
     "output_type": "display_data"
    }
   ],
   "source": [
    "# Definindo o estilo do gráfico\n",
    "sns.set(style=\"whitegrid\")\n",
    "plt.figure(figsize=(12, 6))\n",
    "\n",
    "# Normalização\n",
    "df_clientes_varejo_att['VL_TOTAL_CONTRATO_NORM'] = df_clientes_varejo_att['VL_TOTAL_CONTRATO'] / df_clientes_varejo_att['VL_TOTAL_CONTRATO'].max()\n",
    "df_sem_outliers['VL_TOTAL_CONTRATO_NORM'] = df_sem_outliers['VL_TOTAL_CONTRATO'] / df_clientes_varejo_att['VL_TOTAL_CONTRATO'].max()\n",
    "\n",
    "# Plotando lado a lado\n",
    "plt.subplot(1, 2, 1)\n",
    "sns.boxplot(\n",
    "    y=df_clientes_varejo_att['VL_TOTAL_CONTRATO_NORM'],\n",
    "    color='lightgray'\n",
    ")\n",
    "\n",
    "# Parâmetros boxplot Antes da Remoção\n",
    "plt.title('Antes da Remoção')\n",
    "plt.ylabel('Valor do Contrato Normalizado')\n",
    "plt.xlabel('')\n",
    "\n",
    "plt.subplot(1, 2, 2)\n",
    "sns.boxplot(\n",
    "    y=df_sem_outliers['VL_TOTAL_CONTRATO_NORM'], \n",
    "    color='lightgray'\n",
    ")\n",
    "\n",
    "# Parâmetros boxplot Depois da Remoção\n",
    "plt.title('Depois da Remoção')\n",
    "plt.ylabel('Valor do Contrato Normalizado')\n",
    "plt.xlabel('')\n",
    "\n",
    "# Definindo o título geral\n",
    "plt.suptitle('Boxplot de Vendas - Antes e Depois da Remoção de Outliers', fontsize=16)\n",
    "\n",
    "# Exibindo o gráfico\n",
    "plt.tight_layout()\n",
    "plt.show()"
   ]
  },
  {
   "cell_type": "markdown",
   "id": "ce402e20",
   "metadata": {},
   "source": [
    "# 14. Leitura e Explorando a tabela Histórico"
   ]
  },
  {
   "cell_type": "code",
   "execution_count": 104,
   "id": "e13a6fe6",
   "metadata": {},
   "outputs": [
    {
     "name": "stdout",
     "output_type": "stream",
     "text": [
      "<class 'pandas.core.frame.DataFrame'>\n",
      "RangeIndex: 22740 entries, 0 to 22739\n",
      "Data columns (total 16 columns):\n",
      " #   Column                  Non-Null Count  Dtype \n",
      "---  ------                  --------------  ----- \n",
      " 0   NR_PROPOSTA             22740 non-null  object\n",
      " 1   ITEM_PROPOSTA           22740 non-null  int64 \n",
      " 2   DT_UPLOAD               22740 non-null  object\n",
      " 3   HOSPEDAGEM              22740 non-null  object\n",
      " 4   CD_CLI                  22740 non-null  object\n",
      " 5   FAT_FAIXA               22740 non-null  object\n",
      " 6   CD_PROD                 22740 non-null  object\n",
      " 7   QTD                     22740 non-null  object\n",
      " 8   MESES_BONIF             22740 non-null  int64 \n",
      " 9   VL_PCT_DESC_TEMP        22740 non-null  object\n",
      " 10  VL_PCT_DESCONTO         22740 non-null  object\n",
      " 11  PRC_UNITARIO            22740 non-null  object\n",
      " 12  VL_DESCONTO_TEMPORARIO  22740 non-null  object\n",
      " 13  VL_TOTAL                22740 non-null  object\n",
      " 14  VL_FULL                 22740 non-null  object\n",
      " 15  VL_DESCONTO             22740 non-null  object\n",
      "dtypes: int64(2), object(14)\n",
      "memory usage: 2.8+ MB\n"
     ]
    },
    {
     "data": {
      "text/html": [
       "<div>\n",
       "<style scoped>\n",
       "    .dataframe tbody tr th:only-of-type {\n",
       "        vertical-align: middle;\n",
       "    }\n",
       "\n",
       "    .dataframe tbody tr th {\n",
       "        vertical-align: top;\n",
       "    }\n",
       "\n",
       "    .dataframe thead th {\n",
       "        text-align: right;\n",
       "    }\n",
       "</style>\n",
       "<table border=\"1\" class=\"dataframe\">\n",
       "  <thead>\n",
       "    <tr style=\"text-align: right;\">\n",
       "      <th></th>\n",
       "      <th>NR_PROPOSTA</th>\n",
       "      <th>ITEM_PROPOSTA</th>\n",
       "      <th>DT_UPLOAD</th>\n",
       "      <th>HOSPEDAGEM</th>\n",
       "      <th>CD_CLI</th>\n",
       "      <th>FAT_FAIXA</th>\n",
       "      <th>CD_PROD</th>\n",
       "      <th>QTD</th>\n",
       "      <th>MESES_BONIF</th>\n",
       "      <th>VL_PCT_DESC_TEMP</th>\n",
       "      <th>VL_PCT_DESCONTO</th>\n",
       "      <th>PRC_UNITARIO</th>\n",
       "      <th>VL_DESCONTO_TEMPORARIO</th>\n",
       "      <th>VL_TOTAL</th>\n",
       "      <th>VL_FULL</th>\n",
       "      <th>VL_DESCONTO</th>\n",
       "    </tr>\n",
       "  </thead>\n",
       "  <tbody>\n",
       "    <tr>\n",
       "      <th>14103</th>\n",
       "      <td>AAJUGX</td>\n",
       "      <td>1</td>\n",
       "      <td>2024-03-15</td>\n",
       "      <td>ON PREMISES</td>\n",
       "      <td>TFDSFD</td>\n",
       "      <td>Sem Informações de Faturamento</td>\n",
       "      <td>1113301177</td>\n",
       "      <td>1</td>\n",
       "      <td>0</td>\n",
       "      <td>0</td>\n",
       "      <td>30,4653543453145</td>\n",
       "      <td>75,6694326225557</td>\n",
       "      <td>0</td>\n",
       "      <td>75,6694326225557</td>\n",
       "      <td>274,827175427754</td>\n",
       "      <td>199,157742805199</td>\n",
       "    </tr>\n",
       "    <tr>\n",
       "      <th>10931</th>\n",
       "      <td>AAKATK</td>\n",
       "      <td>5</td>\n",
       "      <td>2024-04-26</td>\n",
       "      <td>ON PREMISES</td>\n",
       "      <td>T24711</td>\n",
       "      <td>Faixa 07 - De 75 M ate 150 M</td>\n",
       "      <td>2010067-2</td>\n",
       "      <td>80</td>\n",
       "      <td>0</td>\n",
       "      <td>0</td>\n",
       "      <td>0</td>\n",
       "      <td>78,0362043206945</td>\n",
       "      <td>0</td>\n",
       "      <td>6242,72819136084</td>\n",
       "      <td>6242,89634565556</td>\n",
       "      <td>0</td>\n",
       "    </tr>\n",
       "    <tr>\n",
       "      <th>2528</th>\n",
       "      <td>AALFSG</td>\n",
       "      <td>1</td>\n",
       "      <td>2024-09-19</td>\n",
       "      <td>ON PREMISES</td>\n",
       "      <td>T10703</td>\n",
       "      <td>Faixa 07 - De 75 M ate 150 M</td>\n",
       "      <td>103600026-5</td>\n",
       "      <td>1</td>\n",
       "      <td>0</td>\n",
       "      <td>0</td>\n",
       "      <td>0</td>\n",
       "      <td>2889,98799000749</td>\n",
       "      <td>0</td>\n",
       "      <td>2889,98799000749</td>\n",
       "      <td>2889,98799000749</td>\n",
       "      <td>0</td>\n",
       "    </tr>\n",
       "    <tr>\n",
       "      <th>11696</th>\n",
       "      <td>AAMBM5</td>\n",
       "      <td>3</td>\n",
       "      <td>2025-01-31</td>\n",
       "      <td>ON PREMISES</td>\n",
       "      <td>T60617</td>\n",
       "      <td>Faixa 05 - De 35 M ate 50 M</td>\n",
       "      <td>5J16017014</td>\n",
       "      <td>1</td>\n",
       "      <td>0</td>\n",
       "      <td>0</td>\n",
       "      <td>0</td>\n",
       "      <td>1791,26362447061</td>\n",
       "      <td>0</td>\n",
       "      <td>1791,26362447061</td>\n",
       "      <td>0,00420385736791976</td>\n",
       "      <td>0</td>\n",
       "    </tr>\n",
       "    <tr>\n",
       "      <th>1701</th>\n",
       "      <td>AAMKNJ</td>\n",
       "      <td>1</td>\n",
       "      <td>2025-02-27</td>\n",
       "      <td>TOTVS CLOUD</td>\n",
       "      <td>TFD975</td>\n",
       "      <td>Faixa 01 - De 4,5 M ate 7,5 M</td>\n",
       "      <td>7T63301067</td>\n",
       "      <td>4</td>\n",
       "      <td>0</td>\n",
       "      <td>0</td>\n",
       "      <td>0</td>\n",
       "      <td>139,542841470729</td>\n",
       "      <td>0</td>\n",
       "      <td>558,171365882914</td>\n",
       "      <td>558,171365882914</td>\n",
       "      <td>0</td>\n",
       "    </tr>\n",
       "  </tbody>\n",
       "</table>\n",
       "</div>"
      ],
      "text/plain": [
       "      NR_PROPOSTA  ITEM_PROPOSTA   DT_UPLOAD   HOSPEDAGEM  CD_CLI  \\\n",
       "14103      AAJUGX              1  2024-03-15  ON PREMISES  TFDSFD   \n",
       "10931      AAKATK              5  2024-04-26  ON PREMISES  T24711   \n",
       "2528       AALFSG              1  2024-09-19  ON PREMISES  T10703   \n",
       "11696      AAMBM5              3  2025-01-31  ON PREMISES  T60617   \n",
       "1701       AAMKNJ              1  2025-02-27  TOTVS CLOUD  TFD975   \n",
       "\n",
       "                            FAT_FAIXA      CD_PROD QTD  MESES_BONIF  \\\n",
       "14103  Sem Informações de Faturamento   1113301177   1            0   \n",
       "10931    Faixa 07 - De 75 M ate 150 M    2010067-2  80            0   \n",
       "2528     Faixa 07 - De 75 M ate 150 M  103600026-5   1            0   \n",
       "11696     Faixa 05 - De 35 M ate 50 M   5J16017014   1            0   \n",
       "1701    Faixa 01 - De 4,5 M ate 7,5 M   7T63301067   4            0   \n",
       "\n",
       "      VL_PCT_DESC_TEMP   VL_PCT_DESCONTO      PRC_UNITARIO  \\\n",
       "14103                0  30,4653543453145  75,6694326225557   \n",
       "10931                0                 0  78,0362043206945   \n",
       "2528                 0                 0  2889,98799000749   \n",
       "11696                0                 0  1791,26362447061   \n",
       "1701                 0                 0  139,542841470729   \n",
       "\n",
       "      VL_DESCONTO_TEMPORARIO          VL_TOTAL              VL_FULL  \\\n",
       "14103                      0  75,6694326225557     274,827175427754   \n",
       "10931                      0  6242,72819136084     6242,89634565556   \n",
       "2528                       0  2889,98799000749     2889,98799000749   \n",
       "11696                      0  1791,26362447061  0,00420385736791976   \n",
       "1701                       0  558,171365882914     558,171365882914   \n",
       "\n",
       "            VL_DESCONTO  \n",
       "14103  199,157742805199  \n",
       "10931                 0  \n",
       "2528                  0  \n",
       "11696                 0  \n",
       "1701                  0  "
      ]
     },
     "execution_count": 104,
     "metadata": {},
     "output_type": "execute_result"
    }
   ],
   "source": [
    "# Importando tabela histórico\n",
    "df_historico = pd.read_csv(r\"src/historico.csv\", sep=';')  # Leitura do arquivo CSV de histórico\n",
    "df_historico.info()  # Exibe informações gerais sobre o DataFrame\n",
    "df_historico.sample(5) #Exibindo tabela histórico"
   ]
  },
  {
   "cell_type": "markdown",
   "id": "dd8fdabf",
   "metadata": {},
   "source": [
    "# 15. Alterando o tipo de dados"
   ]
  },
  {
   "cell_type": "code",
   "execution_count": 105,
   "id": "c56f1692",
   "metadata": {},
   "outputs": [],
   "source": [
    "# Alterando tipos de dados\n",
    "df_historico['NR_PROPOSTA'] = df_historico['NR_PROPOSTA'].astype('category')\n",
    "df_historico['ITEM_PROPOSTA'] = df_historico['ITEM_PROPOSTA'].astype(int)\n",
    "df_historico['DT_UPLOAD'] = pd.to_datetime(df_historico['DT_UPLOAD'])\n",
    "df_historico['HOSPEDAGEM'] = df_historico['HOSPEDAGEM'].astype('string')  \n",
    "df_historico['CD_CLI'] = df_historico['CD_CLI'].astype('category')\n",
    "df_historico['FAT_FAIXA'] = df_historico['FAT_FAIXA'].astype('string')  \n",
    "df_historico['CD_PROD'] = df_historico['CD_PROD'].astype('category')\n",
    "df_historico['QTD'] = df_historico['QTD'].str.replace(',','.', regex=False).astype(float).round(1)\n",
    "df_historico['MESES_BONIF'] = df_historico['MESES_BONIF'].astype(int)\n",
    "df_historico['VL_PCT_DESC_TEMP'] = df_historico['VL_PCT_DESC_TEMP'].str.replace(',','.', regex=False).astype(float).round(2)\n",
    "df_historico['VL_PCT_DESCONTO'] = df_historico['VL_PCT_DESCONTO'].str.replace(',','.', regex=False).astype(float).round(2)\n",
    "df_historico['PRC_UNITARIO'] = df_historico['PRC_UNITARIO'].str.replace(',','.', regex=False).astype(float).round(2)\n",
    "df_historico['VL_DESCONTO_TEMPORARIO'] = df_historico['VL_DESCONTO_TEMPORARIO'].str.replace(',','.', regex=False).astype(float).round(2)\n",
    "df_historico['VL_TOTAL'] = df_historico['VL_TOTAL'].str.replace(',','.', regex=False).astype(float).round(2)\n",
    "df_historico['VL_FULL'] = df_historico['VL_FULL'].str.replace(',','.', regex=False).astype(float).round(2)\n",
    "df_historico['VL_DESCONTO'] = df_historico['VL_DESCONTO'].str.replace(',','.', regex=False).astype(float).round(2)"
   ]
  },
  {
   "cell_type": "code",
   "execution_count": 106,
   "id": "b001ae90",
   "metadata": {},
   "outputs": [
    {
     "name": "stdout",
     "output_type": "stream",
     "text": [
      "<class 'pandas.core.frame.DataFrame'>\n",
      "RangeIndex: 22740 entries, 0 to 22739\n",
      "Data columns (total 16 columns):\n",
      " #   Column                  Non-Null Count  Dtype         \n",
      "---  ------                  --------------  -----         \n",
      " 0   NR_PROPOSTA             22740 non-null  category      \n",
      " 1   ITEM_PROPOSTA           22740 non-null  int64         \n",
      " 2   DT_UPLOAD               22740 non-null  datetime64[ns]\n",
      " 3   HOSPEDAGEM              22740 non-null  string        \n",
      " 4   CD_CLI                  22740 non-null  category      \n",
      " 5   FAT_FAIXA               22740 non-null  string        \n",
      " 6   CD_PROD                 22740 non-null  category      \n",
      " 7   QTD                     22740 non-null  float64       \n",
      " 8   MESES_BONIF             22740 non-null  int64         \n",
      " 9   VL_PCT_DESC_TEMP        22740 non-null  float64       \n",
      " 10  VL_PCT_DESCONTO         22740 non-null  float64       \n",
      " 11  PRC_UNITARIO            22740 non-null  float64       \n",
      " 12  VL_DESCONTO_TEMPORARIO  22740 non-null  float64       \n",
      " 13  VL_TOTAL                22740 non-null  float64       \n",
      " 14  VL_FULL                 22740 non-null  float64       \n",
      " 15  VL_DESCONTO             22740 non-null  float64       \n",
      "dtypes: category(3), datetime64[ns](1), float64(8), int64(2), string(2)\n",
      "memory usage: 2.9 MB\n"
     ]
    }
   ],
   "source": [
    "df_historico.info()  # Exibe informações do DataFrame após conversão de tipos"
   ]
  },
  {
   "cell_type": "markdown",
   "id": "8c3c19e4",
   "metadata": {},
   "source": [
    "# 16. Analisando Missings / Valores Nulos"
   ]
  },
  {
   "cell_type": "code",
   "execution_count": 107,
   "id": "eab8c00a",
   "metadata": {},
   "outputs": [
    {
     "data": {
      "text/plain": [
       "NR_PROPOSTA               0\n",
       "ITEM_PROPOSTA             0\n",
       "DT_UPLOAD                 0\n",
       "HOSPEDAGEM                0\n",
       "CD_CLI                    0\n",
       "FAT_FAIXA                 0\n",
       "CD_PROD                   0\n",
       "QTD                       0\n",
       "MESES_BONIF               0\n",
       "VL_PCT_DESC_TEMP          0\n",
       "VL_PCT_DESCONTO           0\n",
       "PRC_UNITARIO              0\n",
       "VL_DESCONTO_TEMPORARIO    0\n",
       "VL_TOTAL                  0\n",
       "VL_FULL                   0\n",
       "VL_DESCONTO               0\n",
       "dtype: int64"
      ]
     },
     "execution_count": 107,
     "metadata": {},
     "output_type": "execute_result"
    }
   ],
   "source": [
    "df_historico.isnull().sum()  # Verifica valores nulos em cada coluna"
   ]
  },
  {
   "cell_type": "markdown",
   "id": "e7494ec2",
   "metadata": {},
   "source": [
    "# 17. Identificando linhas duplicadas"
   ]
  },
  {
   "cell_type": "code",
   "execution_count": 108,
   "id": "bf15197f",
   "metadata": {},
   "outputs": [
    {
     "data": {
      "text/plain": [
       "(0, 16)"
      ]
     },
     "execution_count": 108,
     "metadata": {},
     "output_type": "execute_result"
    }
   ],
   "source": [
    "duplicadas_hist = df_historico[df_historico.duplicated(keep=False)]  # Identifica linhas duplicadas\n",
    "duplicadas_hist.shape # Mostra o tamanho do DataFrame de linhas duplicadas"
   ]
  },
  {
   "cell_type": "markdown",
   "id": "007484aa",
   "metadata": {},
   "source": [
    "# 18. Identificando Outliers"
   ]
  },
  {
   "cell_type": "code",
   "execution_count": 109,
   "id": "a5a7e25b",
   "metadata": {},
   "outputs": [
    {
     "name": "stdout",
     "output_type": "stream",
     "text": [
      "ITEM_PROPOSTA : int64\n",
      "QTD : float64\n",
      "MESES_BONIF : int64\n",
      "VL_PCT_DESC_TEMP : float64\n",
      "VL_PCT_DESCONTO : float64\n",
      "PRC_UNITARIO : float64\n",
      "VL_DESCONTO_TEMPORARIO : float64\n"
     ]
    },
    {
     "name": "stdout",
     "output_type": "stream",
     "text": [
      "Coluna: ITEM_PROPOSTA\n",
      "  Limite inferior: -3.5\n",
      "  Limite superior: 8.5\n",
      "\n",
      "Coluna: QTD\n",
      "  Limite inferior: -18.5\n",
      "  Limite superior: 33.5\n",
      "\n",
      "Coluna: MESES_BONIF\n",
      "  Limite inferior: 0.0\n",
      "  Limite superior: 0.0\n",
      "\n",
      "Coluna: VL_PCT_DESC_TEMP\n",
      "  Limite inferior: 0.0\n",
      "  Limite superior: 0.0\n",
      "\n",
      "Coluna: VL_PCT_DESCONTO\n",
      "  Limite inferior: -6.300000000000001\n",
      "  Limite superior: 10.5\n",
      "\n",
      "Coluna: PRC_UNITARIO\n",
      "  Limite inferior: -916.93\n",
      "  Limite superior: 1592.6699999999998\n",
      "\n",
      "Coluna: VL_DESCONTO_TEMPORARIO\n",
      "  Limite inferior: 0.0\n",
      "  Limite superior: 0.0\n",
      "\n"
     ]
    },
    {
     "data": {
      "image/png": "[encoded data removed]",
      "text/plain": [
       "<Figure size 1000x1000 with 8 Axes>"
      ]
     },
     "metadata": {},
     "output_type": "display_data"
    }
   ],
   "source": [
    "# Loop for para carregar variáveis \n",
    "variaveis_numericas = []\n",
    "for i in df_historico.columns[0:13].tolist():\n",
    "        if df_historico.dtypes[i] == 'int64' or df_historico.dtypes[i] == 'float64':            \n",
    "            print(i, ':' , df_historico.dtypes[i]) \n",
    "            variaveis_numericas.append(i)\n",
    "  \n",
    "    \n",
    "# Definindo parâmetros do gráfico\n",
    "plt.rcParams[\"figure.figsize\"] = [10.00, 10.00]\n",
    "plt.rcParams[\"figure.autolayout\"] = True\n",
    "\n",
    "plt.rcParams['font.size'] = 8 \n",
    "plt.rcParams['axes.titlesize'] = 15\n",
    "\n",
    "f, axes = plt.subplots(2,4) #2 linhas e 4 colunas\n",
    "\n",
    "# Loop para criar boxplots para cada variável numérica\n",
    "linha = 0\n",
    "coluna = 0\n",
    "for i in variaveis_numericas:\n",
    "    sns.boxplot(data = df_historico, y=i, ax=axes[linha][coluna])\n",
    "    coluna += 1\n",
    "    if coluna == 4:\n",
    "        linha += 1\n",
    "        coluna = 0   \n",
    "\n",
    "# Loop para calcular limites inferior e superior para cada variável numérica\n",
    "for coluna in variaveis_numericas:\n",
    "    Q1 = df_historico[coluna].quantile(0.25)\n",
    "    Q3 = df_historico[coluna].quantile(0.75)\n",
    "    IQR = Q3 - Q1\n",
    "\n",
    "    limite_inferior = Q1 - 1.5 * IQR\n",
    "    limite_superior = Q3 + 1.5 * IQR\n",
    "\n",
    "    print(f'Coluna: {coluna}')\n",
    "    print(f'  Limite inferior: {limite_inferior}')\n",
    "    print(f'  Limite superior: {limite_superior}\\n')\n",
    "\n",
    "# Exibindo o gráfico\n",
    "plt.show() "
   ]
  },
  {
   "cell_type": "markdown",
   "id": "e0a27ca1",
   "metadata": {},
   "source": [
    "# 19. Definindo os Outliers com o algoritmo K-Nearest Neighbors (KNN)\n"
   ]
  },
  {
   "cell_type": "markdown",
   "id": "b8c8afef",
   "metadata": {},
   "source": [
    "O KNN pode ser utilizado para detecção e tratamento de outliers com base na ideia de proximidade entre amostras. \n",
    "\n",
    "Dessa forma, o KNN pode ser utilizado para identificar outliers em um conjunto de dados, considerando a distância entre os pontos e a densidade local. O algoritmo calcula a distância entre um ponto e seus vizinhos mais próximos e, se essa distância for maior do que um determinado limiar, o ponto é considerado um outlier.\n",
    "\n",
    "Escolhemos este algoritmo para essas váriaveis por ser simples de implementar e facilitará a identificação de outliers para essas varáveis definidas."
   ]
  },
  {
   "cell_type": "code",
   "execution_count": 111,
   "id": "6700e274",
   "metadata": {},
   "outputs": [],
   "source": [
    "from pyod.models.knn import KNN # Importando o algoritmo KNN"
   ]
  },
  {
   "cell_type": "code",
   "execution_count": 112,
   "id": "e1e598ff",
   "metadata": {},
   "outputs": [
    {
     "data": {
      "text/plain": [
       "KNN(algorithm='auto', contamination=0.1, leaf_size=30, method='largest',\n",
       "  metric='minkowski', metric_params=None, n_jobs=1, n_neighbors=5, p=2,\n",
       "  radius=1.0)"
      ]
     },
     "execution_count": 112,
     "metadata": {},
     "output_type": "execute_result"
    }
   ],
   "source": [
    "# Instanciando o objeto KNN\n",
    "detector = KNN()\n",
    "\n",
    "# Treinando um detector de OUTLIERS\n",
    "detector.fit(df_historico[variaveis_numericas])"
   ]
  },
  {
   "cell_type": "code",
   "execution_count": 113,
   "id": "f6ee64f0",
   "metadata": {},
   "outputs": [
    {
     "data": {
      "text/plain": [
       "array([0, 0, 0, ..., 0, 0, 0], shape=(22740,))"
      ]
     },
     "execution_count": 113,
     "metadata": {},
     "output_type": "execute_result"
    }
   ],
   "source": [
    "# A propiedade LABELS_ retorna um ARRAY com 0 e 1\n",
    "# 0 significa que NÃO é outlier\n",
    "# 1 significa que É outlier\n",
    "previsoes = detector.labels_\n",
    "previsoes"
   ]
  },
  {
   "cell_type": "code",
   "execution_count": 114,
   "id": "13f0e480",
   "metadata": {},
   "outputs": [
    {
     "data": {
      "text/plain": [
       "(array([0, 1]), array([20467,  2273]))"
      ]
     },
     "execution_count": 114,
     "metadata": {},
     "output_type": "execute_result"
    }
   ],
   "source": [
    "# Fazendo uma contagem para identificar os outliers\n",
    "np.unique(previsoes, return_counts = True)"
   ]
  },
  {
   "cell_type": "code",
   "execution_count": 115,
   "id": "4e565424",
   "metadata": {},
   "outputs": [
    {
     "data": {
      "text/plain": [
       "array([ 3.53      ,  0.29      ,  2.54472002, ...,  1.38621788,\n",
       "       10.82151561,  1.        ], shape=(22740,))"
      ]
     },
     "execution_count": 115,
     "metadata": {},
     "output_type": "execute_result"
    }
   ],
   "source": [
    "# Observando o calculo da distancia realizado para identificação do outlier\n",
    "confianca_previsoes = detector.decision_scores_\n",
    "confianca_previsoes"
   ]
  },
  {
   "cell_type": "code",
   "execution_count": 116,
   "id": "bf929f16",
   "metadata": {},
   "outputs": [],
   "source": [
    "# Criando uma lista somente com os outliers\n",
    "outliers = []\n",
    "for i in range(len(previsoes)):\n",
    "    #print(i)\n",
    "    if previsoes[i] == 1:\n",
    "        outliers.append(i)"
   ]
  },
  {
   "cell_type": "code",
   "execution_count": 117,
   "id": "583c1e86",
   "metadata": {},
   "outputs": [
    {
     "name": "stdout",
     "output_type": "stream",
     "text": [
      "[11, 16, 18, 33, 41, 85, 105, 128, 133, 141, 152, 165, 167, 182, 183, 191, 192, 218, 229, 230, 231, 254, 271, 281, 289, 327, 345, 347, 360, 373, 383, 400, 424, 427, 428, 437, 450, 453, 461, 474, 503, 508, 513, 551, 561, 566, 578, 615, 623, 630, 636, 640, 650, 667, 688, 692, 699, 708, 729, 730, 731, 735, 742, 752, 767, 769, 797, 842, 866, 875, 888, 907, 913, 937, 954, 963, 976, 978, 983, 991, 995, 1013, 1020, 1027, 1045, 1052, 1072, 1083, 1097, 1100, 1103, 1114, 1119, 1138, 1162, 1167, 1180, 1190, 1192, 1236, 1239, 1240, 1247, 1266, 1267, 1268, 1277, 1289, 1291, 1310, 1327, 1340, 1354, 1367, 1369, 1371, 1380, 1387, 1410, 1413, 1415, 1424, 1425, 1428, 1443, 1446, 1455, 1464, 1468, 1472, 1482, 1490, 1504, 1505, 1534, 1535, 1539, 1549, 1573, 1594, 1608, 1617, 1623, 1627, 1639, 1645, 1656, 1678, 1697, 1698, 1699, 1703, 1705, 1713, 1737, 1777, 1783, 1784, 1789, 1792, 1795, 1807, 1808, 1817, 1837, 1844, 1850, 1852, 1882, 1884, 1893, 1901, 1940, 1949, 1958, 1992, 1993, 2002, 2006, 2017, 2021, 2022, 2040, 2041, 2048, 2051, 2063, 2071, 2082, 2088, 2089, 2094, 2102, 2111, 2121, 2151, 2152, 2164, 2190, 2195, 2196, 2206, 2209, 2211, 2218, 2223, 2249, 2256, 2290, 2300, 2302, 2303, 2317, 2325, 2333, 2339, 2378, 2398, 2400, 2404, 2435, 2438, 2445, 2448, 2460, 2479, 2483, 2504, 2513, 2517, 2524, 2554, 2563, 2566, 2573, 2574, 2586, 2588, 2595, 2604, 2614, 2643, 2660, 2664, 2679, 2693, 2694, 2747, 2762, 2763, 2764, 2783, 2795, 2803, 2810, 2811, 2832, 2834, 2835, 2840, 2842, 2859, 2867, 2869, 2872, 2882, 2885, 2889, 2897, 2901, 2910, 2917, 2934, 2951, 2965, 2967, 2968, 2969, 2973, 2977, 2978, 2979, 2983, 2987, 2990, 3000, 3016, 3021, 3034, 3040, 3048, 3050, 3058, 3063, 3071, 3080, 3083, 3084, 3098, 3099, 3106, 3107, 3115, 3120, 3121, 3142, 3145, 3146, 3155, 3166, 3179, 3217, 3218, 3231, 3246, 3248, 3263, 3277, 3300, 3312, 3346, 3349, 3355, 3360, 3364, 3365, 3381, 3382, 3384, 3387, 3394, 3409, 3417, 3444, 3454, 3455, 3462, 3473, 3475, 3478, 3487, 3501, 3525, 3528, 3537, 3538, 3544, 3580, 3582, 3585, 3598, 3617, 3632, 3646, 3649, 3651, 3666, 3687, 3702, 3707, 3709, 3716, 3729, 3730, 3749, 3763, 3766, 3776, 3801, 3808, 3825, 3837, 3842, 3853, 3857, 3859, 3862, 3877, 3878, 3908, 3917, 3927, 3930, 3941, 3951, 3966, 3975, 3982, 3985, 4003, 4008, 4020, 4028, 4041, 4075, 4079, 4094, 4102, 4108, 4112, 4116, 4118, 4122, 4129, 4136, 4158, 4172, 4175, 4176, 4177, 4179, 4198, 4212, 4214, 4229, 4233, 4235, 4236, 4255, 4264, 4265, 4267, 4290, 4291, 4294, 4298, 4299, 4322, 4328, 4338, 4356, 4368, 4386, 4387, 4402, 4405, 4413, 4416, 4421, 4432, 4451, 4452, 4457, 4482, 4483, 4509, 4525, 4546, 4566, 4574, 4607, 4612, 4615, 4631, 4637, 4638, 4654, 4659, 4683, 4701, 4704, 4715, 4723, 4725, 4732, 4737, 4748, 4771, 4777, 4785, 4793, 4794, 4797, 4802, 4816, 4819, 4835, 4850, 4851, 4872, 4873, 4888, 4892, 4915, 4921, 4923, 4929, 4948, 4953, 4964, 4973, 4992, 5004, 5006, 5016, 5018, 5036, 5051, 5053, 5055, 5059, 5072, 5081, 5093, 5098, 5099, 5103, 5126, 5133, 5151, 5169, 5171, 5172, 5205, 5208, 5217, 5230, 5262, 5273, 5289, 5295, 5336, 5342, 5344, 5370, 5379, 5380, 5382, 5386, 5395, 5401, 5403, 5406, 5408, 5415, 5420, 5429, 5433, 5461, 5467, 5489, 5494, 5496, 5497, 5505, 5513, 5514, 5528, 5536, 5542, 5556, 5558, 5593, 5603, 5606, 5620, 5622, 5629, 5649, 5652, 5678, 5680, 5683, 5689, 5700, 5745, 5750, 5751, 5766, 5768, 5771, 5789, 5808, 5815, 5816, 5819, 5830, 5832, 5838, 5839, 5850, 5867, 5872, 5888, 5895, 5896, 5930, 5940, 5944, 5948, 5957, 5960, 5971, 5972, 5973, 5977, 5994, 6009, 6016, 6021, 6031, 6042, 6056, 6096, 6114, 6147, 6149, 6158, 6165, 6169, 6170, 6173, 6180, 6188, 6191, 6207, 6244, 6248, 6257, 6262, 6295, 6296, 6300, 6302, 6303, 6328, 6332, 6333, 6359, 6368, 6375, 6378, 6380, 6387, 6390, 6402, 6408, 6412, 6416, 6424, 6435, 6439, 6443, 6460, 6466, 6468, 6476, 6482, 6484, 6487, 6494, 6495, 6506, 6509, 6520, 6534, 6543, 6547, 6560, 6568, 6576, 6577, 6596, 6607, 6610, 6614, 6636, 6637, 6644, 6653, 6690, 6703, 6704, 6706, 6727, 6732, 6738, 6742, 6766, 6776, 6800, 6804, 6831, 6840, 6842, 6852, 6872, 6875, 6889, 6913, 6928, 6935, 6937, 6940, 6941, 6949, 6979, 6983, 6988, 6990, 6991, 6995, 7000, 7002, 7003, 7024, 7032, 7057, 7064, 7073, 7079, 7098, 7119, 7123, 7132, 7142, 7144, 7150, 7153, 7163, 7165, 7174, 7176, 7183, 7187, 7230, 7240, 7262, 7276, 7281, 7307, 7311, 7313, 7368, 7369, 7402, 7409, 7415, 7443, 7448, 7451, 7474, 7480, 7488, 7489, 7490, 7508, 7520, 7534, 7560, 7566, 7575, 7590, 7592, 7595, 7615, 7618, 7619, 7625, 7635, 7649, 7658, 7663, 7664, 7669, 7671, 7672, 7673, 7674, 7679, 7686, 7697, 7699, 7702, 7735, 7738, 7740, 7748, 7762, 7827, 7845, 7850, 7852, 7856, 7887, 7901, 7923, 7929, 7945, 7951, 7959, 7965, 7969, 7972, 7973, 7974, 7978, 7984, 7999, 8002, 8005, 8019, 8045, 8049, 8064, 8067, 8074, 8077, 8079, 8088, 8089, 8091, 8092, 8112, 8130, 8143, 8153, 8158, 8168, 8172, 8173, 8182, 8217, 8218, 8222, 8237, 8239, 8251, 8255, 8270, 8272, 8281, 8285, 8287, 8291, 8296, 8303, 8323, 8352, 8368, 8369, 8387, 8393, 8394, 8399, 8401, 8409, 8413, 8426, 8430, 8431, 8477, 8489, 8524, 8529, 8540, 8555, 8559, 8586, 8590, 8595, 8597, 8602, 8611, 8622, 8636, 8649, 8668, 8673, 8684, 8686, 8696, 8710, 8717, 8725, 8730, 8777, 8779, 8781, 8788, 8798, 8817, 8836, 8869, 8873, 8877, 8901, 8905, 8927, 8931, 8939, 8959, 8961, 8982, 8989, 9000, 9022, 9028, 9033, 9050, 9059, 9064, 9079, 9081, 9088, 9103, 9123, 9148, 9164, 9166, 9181, 9188, 9202, 9209, 9210, 9228, 9242, 9258, 9272, 9279, 9280, 9284, 9285, 9289, 9291, 9295, 9298, 9307, 9313, 9316, 9317, 9321, 9337, 9343, 9351, 9352, 9361, 9369, 9383, 9390, 9403, 9430, 9457, 9467, 9475, 9480, 9484, 9488, 9502, 9506, 9507, 9511, 9517, 9536, 9545, 9546, 9574, 9575, 9589, 9598, 9604, 9609, 9612, 9621, 9634, 9648, 9652, 9659, 9669, 9678, 9686, 9707, 9710, 9719, 9721, 9724, 9735, 9740, 9753, 9759, 9770, 9779, 9784, 9804, 9807, 9811, 9848, 9853, 9864, 9872, 9884, 9889, 9898, 9915, 9917, 9919, 9921, 9961, 9973, 9982, 9999, 10014, 10021, 10023, 10045, 10054, 10055, 10058, 10079, 10082, 10089, 10119, 10138, 10146, 10149, 10155, 10167, 10169, 10173, 10175, 10181, 10198, 10202, 10243, 10262, 10286, 10311, 10316, 10327, 10330, 10358, 10382, 10407, 10413, 10417, 10428, 10436, 10439, 10453, 10454, 10461, 10471, 10478, 10485, 10496, 10510, 10521, 10526, 10556, 10560, 10561, 10570, 10574, 10597, 10609, 10621, 10629, 10631, 10640, 10660, 10671, 10688, 10690, 10692, 10694, 10701, 10717, 10722, 10737, 10743, 10745, 10752, 10756, 10760, 10775, 10778, 10779, 10845, 10849, 10864, 10875, 10877, 10891, 10894, 10896, 10917, 10919, 10940, 10951, 10955, 10963, 10970, 10985, 10990, 10992, 10993, 11001, 11025, 11040, 11058, 11078, 11119, 11150, 11182, 11221, 11223, 11227, 11228, 11239, 11259, 11274, 11282, 11307, 11314, 11325, 11328, 11332, 11336, 11365, 11381, 11387, 11390, 11392, 11399, 11424, 11427, 11438, 11461, 11462, 11483, 11498, 11505, 11506, 11531, 11536, 11537, 11543, 11548, 11553, 11568, 11574, 11586, 11596, 11629, 11631, 11636, 11640, 11641, 11643, 11644, 11653, 11678, 11697, 11711, 11713, 11720, 11741, 11742, 11748, 11750, 11754, 11759, 11768, 11774, 11781, 11784, 11789, 11809, 11817, 11827, 11828, 11851, 11852, 11859, 11863, 11872, 11874, 11878, 11884, 11896, 11906, 11920, 11921, 11931, 11964, 11972, 11973, 11983, 11986, 11998, 12000, 12006, 12013, 12025, 12028, 12041, 12049, 12064, 12065, 12079, 12095, 12096, 12115, 12117, 12124, 12127, 12144, 12152, 12153, 12154, 12163, 12173, 12180, 12194, 12202, 12209, 12217, 12247, 12262, 12263, 12264, 12279, 12282, 12285, 12291, 12301, 12311, 12315, 12318, 12332, 12335, 12342, 12344, 12358, 12372, 12383, 12390, 12393, 12447, 12465, 12478, 12483, 12506, 12514, 12537, 12554, 12566, 12585, 12588, 12595, 12597, 12624, 12625, 12650, 12675, 12686, 12688, 12690, 12693, 12703, 12720, 12728, 12731, 12741, 12742, 12746, 12749, 12774, 12792, 12805, 12810, 12828, 12841, 12847, 12869, 12904, 12910, 12917, 12918, 12940, 12945, 12955, 12956, 12957, 12969, 12989, 12995, 13001, 13007, 13011, 13038, 13055, 13065, 13071, 13110, 13119, 13122, 13126, 13133, 13144, 13147, 13168, 13169, 13178, 13182, 13192, 13201, 13204, 13227, 13233, 13239, 13240, 13247, 13251, 13267, 13270, 13274, 13295, 13296, 13303, 13333, 13340, 13345, 13346, 13348, 13349, 13352, 13367, 13390, 13391, 13445, 13458, 13467, 13473, 13488, 13490, 13492, 13501, 13509, 13522, 13530, 13555, 13557, 13563, 13565, 13570, 13589, 13607, 13612, 13616, 13629, 13650, 13658, 13670, 13674, 13711, 13719, 13725, 13731, 13732, 13739, 13741, 13755, 13757, 13773, 13790, 13811, 13819, 13832, 13876, 13878, 13889, 13894, 13900, 13922, 13925, 13947, 13966, 13970, 13976, 13993, 13998, 14005, 14011, 14033, 14034, 14045, 14050, 14069, 14071, 14077, 14078, 14085, 14094, 14102, 14120, 14130, 14145, 14157, 14181, 14207, 14208, 14209, 14220, 14221, 14224, 14230, 14239, 14249, 14255, 14261, 14268, 14290, 14292, 14314, 14328, 14332, 14334, 14337, 14340, 14344, 14355, 14364, 14388, 14401, 14417, 14421, 14442, 14448, 14455, 14456, 14463, 14465, 14468, 14479, 14483, 14491, 14500, 14506, 14507, 14518, 14529, 14534, 14535, 14557, 14578, 14590, 14604, 14606, 14609, 14610, 14619, 14652, 14659, 14665, 14676, 14678, 14681, 14687, 14689, 14697, 14703, 14712, 14725, 14749, 14751, 14774, 14780, 14787, 14792, 14801, 14809, 14849, 14890, 14901, 14906, 14914, 14953, 14957, 14979, 14986, 15015, 15068, 15072, 15081, 15082, 15089, 15098, 15103, 15110, 15150, 15156, 15173, 15203, 15204, 15226, 15229, 15235, 15236, 15238, 15253, 15256, 15266, 15267, 15273, 15280, 15297, 15310, 15316, 15318, 15331, 15332, 15337, 15338, 15364, 15392, 15394, 15395, 15413, 15441, 15444, 15449, 15456, 15462, 15467, 15473, 15481, 15498, 15505, 15561, 15568, 15577, 15582, 15586, 15595, 15599, 15611, 15632, 15640, 15641, 15654, 15663, 15673, 15693, 15713, 15726, 15727, 15729, 15745, 15747, 15763, 15774, 15790, 15792, 15795, 15804, 15825, 15830, 15843, 15847, 15860, 15862, 15870, 15887, 15888, 15894, 15902, 15909, 15914, 15928, 15939, 15952, 15964, 15975, 15988, 15992, 15994, 16007, 16008, 16023, 16030, 16055, 16061, 16062, 16067, 16069, 16073, 16078, 16081, 16103, 16104, 16111, 16114, 16115, 16118, 16119, 16126, 16129, 16132, 16136, 16162, 16165, 16166, 16188, 16224, 16236, 16238, 16244, 16245, 16247, 16251, 16266, 16267, 16278, 16283, 16285, 16286, 16299, 16324, 16332, 16343, 16354, 16364, 16365, 16392, 16393, 16409, 16432, 16433, 16437, 16439, 16441, 16446, 16451, 16457, 16460, 16461, 16468, 16469, 16472, 16475, 16480, 16489, 16491, 16512, 16523, 16539, 16570, 16576, 16584, 16586, 16603, 16612, 16620, 16623, 16663, 16678, 16696, 16716, 16721, 16733, 16735, 16738, 16745, 16754, 16759, 16779, 16785, 16804, 16808, 16816, 16826, 16830, 16833, 16837, 16850, 16870, 16878, 16886, 16896, 16897, 16914, 16919, 16937, 16939, 16958, 16962, 16969, 16978, 16979, 17007, 17013, 17025, 17043, 17048, 17050, 17071, 17073, 17089, 17099, 17102, 17110, 17113, 17127, 17146, 17150, 17165, 17166, 17195, 17196, 17219, 17235, 17240, 17264, 17280, 17291, 17292, 17301, 17311, 17320, 17328, 17362, 17366, 17391, 17393, 17396, 17421, 17444, 17470, 17479, 17512, 17518, 17527, 17529, 17545, 17548, 17550, 17555, 17559, 17603, 17613, 17616, 17623, 17627, 17629, 17651, 17655, 17675, 17680, 17704, 17705, 17708, 17710, 17720, 17725, 17745, 17747, 17751, 17753, 17765, 17790, 17800, 17837, 17841, 17849, 17853, 17859, 17861, 17878, 17887, 17890, 17895, 17909, 17965, 17966, 17968, 17969, 17975, 17979, 17992, 18009, 18019, 18028, 18038, 18042, 18055, 18061, 18068, 18076, 18097, 18110, 18113, 18123, 18127, 18146, 18188, 18189, 18193, 18195, 18209, 18217, 18218, 18219, 18221, 18227, 18243, 18244, 18256, 18261, 18263, 18283, 18291, 18320, 18329, 18330, 18348, 18360, 18364, 18382, 18399, 18404, 18409, 18429, 18461, 18477, 18482, 18489, 18491, 18498, 18502, 18506, 18530, 18531, 18551, 18557, 18563, 18590, 18593, 18600, 18619, 18625, 18629, 18635, 18648, 18659, 18694, 18706, 18712, 18715, 18717, 18722, 18724, 18733, 18756, 18783, 18789, 18791, 18794, 18795, 18806, 18818, 18823, 18829, 18831, 18836, 18837, 18856, 18879, 18880, 18883, 18892, 18907, 18908, 18925, 18931, 18935, 18936, 18959, 18966, 18970, 18981, 18983, 18985, 19005, 19028, 19033, 19037, 19048, 19056, 19061, 19085, 19092, 19122, 19124, 19152, 19156, 19179, 19194, 19204, 19223, 19230, 19233, 19238, 19243, 19255, 19266, 19272, 19280, 19286, 19293, 19295, 19323, 19324, 19337, 19340, 19346, 19349, 19354, 19368, 19373, 19375, 19380, 19382, 19397, 19409, 19444, 19459, 19460, 19478, 19488, 19493, 19498, 19516, 19533, 19545, 19550, 19555, 19560, 19572, 19578, 19583, 19595, 19615, 19628, 19629, 19637, 19644, 19646, 19659, 19668, 19680, 19681, 19682, 19683, 19691, 19693, 19699, 19717, 19723, 19736, 19737, 19748, 19752, 19757, 19763, 19767, 19783, 19784, 19786, 19797, 19800, 19809, 19826, 19847, 19852, 19861, 19870, 19889, 19890, 19891, 19893, 19894, 19905, 19927, 19940, 20004, 20013, 20017, 20036, 20062, 20066, 20076, 20078, 20110, 20114, 20127, 20128, 20132, 20133, 20146, 20147, 20155, 20167, 20171, 20177, 20226, 20248, 20271, 20277, 20278, 20279, 20281, 20288, 20296, 20312, 20334, 20341, 20353, 20358, 20377, 20384, 20410, 20415, 20430, 20432, 20447, 20459, 20468, 20476, 20477, 20483, 20489, 20490, 20502, 20506, 20518, 20521, 20526, 20572, 20579, 20582, 20592, 20612, 20618, 20646, 20656, 20659, 20675, 20681, 20684, 20715, 20716, 20722, 20732, 20742, 20748, 20756, 20765, 20768, 20779, 20789, 20793, 20796, 20797, 20808, 20825, 20830, 20832, 20844, 20851, 20858, 20863, 20875, 20877, 20894, 20901, 20902, 20903, 20908, 20929, 20933, 20935, 20936, 20942, 20945, 20966, 21001, 21021, 21024, 21031, 21050, 21058, 21064, 21073, 21093, 21095, 21113, 21115, 21117, 21120, 21128, 21139, 21143, 21150, 21152, 21154, 21159, 21161, 21165, 21168, 21187, 21197, 21206, 21244, 21250, 21262, 21268, 21271, 21289, 21290, 21291, 21301, 21313, 21327, 21343, 21369, 21373, 21378, 21384, 21391, 21420, 21424, 21446, 21447, 21456, 21458, 21475, 21479, 21494, 21497, 21508, 21530, 21535, 21553, 21555, 21573, 21578, 21583, 21610, 21613, 21621, 21626, 21645, 21653, 21666, 21676, 21679, 21685, 21693, 21698, 21714, 21718, 21719, 21748, 21776, 21788, 21791, 21797, 21815, 21823, 21828, 21830, 21831, 21867, 21899, 21904, 21924, 21925, 21930, 21937, 21954, 21960, 21964, 21972, 21974, 21975, 22001, 22002, 22005, 22013, 22023, 22025, 22032, 22048, 22055, 22063, 22068, 22074, 22079, 22096, 22101, 22104, 22109, 22113, 22125, 22126, 22128, 22140, 22159, 22179, 22183, 22192, 22213, 22217, 22222, 22223, 22224, 22261, 22288, 22294, 22300, 22312, 22320, 22323, 22330, 22347, 22350, 22352, 22357, 22363, 22374, 22382, 22388, 22399, 22410, 22413, 22414, 22431, 22449, 22455, 22458, 22459, 22472, 22475, 22495, 22506, 22519, 22523, 22540, 22541, 22559, 22573, 22581, 22582, 22584, 22592, 22606, 22609, 22620, 22625, 22638, 22651, 22659, 22671, 22678, 22689, 22698, 22705, 22706, 22712, 22728, 22733, 22735]\n",
      "\n",
      "Quantidade de outliers: 2273\n"
     ]
    }
   ],
   "source": [
    "# Exibindo lista com os ID´s dos registros que foram considerados OUTLIERS\n",
    "print(outliers)\n",
    "\n",
    "# Exibindo o tamanho da lista de outliers\n",
    "print(f'\\nQuantidade de outliers: {len(outliers)}')"
   ]
  },
  {
   "cell_type": "code",
   "execution_count": 118,
   "id": "a9e519c9",
   "metadata": {},
   "outputs": [
    {
     "data": {
      "text/html": [
       "<div>\n",
       "<style scoped>\n",
       "    .dataframe tbody tr th:only-of-type {\n",
       "        vertical-align: middle;\n",
       "    }\n",
       "\n",
       "    .dataframe tbody tr th {\n",
       "        vertical-align: top;\n",
       "    }\n",
       "\n",
       "    .dataframe thead th {\n",
       "        text-align: right;\n",
       "    }\n",
       "</style>\n",
       "<table border=\"1\" class=\"dataframe\">\n",
       "  <thead>\n",
       "    <tr style=\"text-align: right;\">\n",
       "      <th></th>\n",
       "      <th>ITEM_PROPOSTA</th>\n",
       "      <th>QTD</th>\n",
       "      <th>MESES_BONIF</th>\n",
       "      <th>VL_PCT_DESC_TEMP</th>\n",
       "      <th>VL_PCT_DESCONTO</th>\n",
       "      <th>PRC_UNITARIO</th>\n",
       "      <th>VL_DESCONTO_TEMPORARIO</th>\n",
       "    </tr>\n",
       "  </thead>\n",
       "  <tbody>\n",
       "    <tr>\n",
       "      <th>11</th>\n",
       "      <td>11</td>\n",
       "      <td>1.0</td>\n",
       "      <td>0</td>\n",
       "      <td>0.00</td>\n",
       "      <td>17.27</td>\n",
       "      <td>7243.58</td>\n",
       "      <td>0.00</td>\n",
       "    </tr>\n",
       "    <tr>\n",
       "      <th>16</th>\n",
       "      <td>7</td>\n",
       "      <td>12200.0</td>\n",
       "      <td>0</td>\n",
       "      <td>0.00</td>\n",
       "      <td>41.24</td>\n",
       "      <td>0.00</td>\n",
       "      <td>0.00</td>\n",
       "    </tr>\n",
       "    <tr>\n",
       "      <th>18</th>\n",
       "      <td>12</td>\n",
       "      <td>12.0</td>\n",
       "      <td>999</td>\n",
       "      <td>17.66</td>\n",
       "      <td>0.00</td>\n",
       "      <td>293.67</td>\n",
       "      <td>1480.11</td>\n",
       "    </tr>\n",
       "    <tr>\n",
       "      <th>33</th>\n",
       "      <td>1</td>\n",
       "      <td>1.0</td>\n",
       "      <td>0</td>\n",
       "      <td>0.00</td>\n",
       "      <td>0.00</td>\n",
       "      <td>63484.80</td>\n",
       "      <td>0.00</td>\n",
       "    </tr>\n",
       "    <tr>\n",
       "      <th>41</th>\n",
       "      <td>1</td>\n",
       "      <td>1.0</td>\n",
       "      <td>0</td>\n",
       "      <td>0.00</td>\n",
       "      <td>0.00</td>\n",
       "      <td>46803.79</td>\n",
       "      <td>0.00</td>\n",
       "    </tr>\n",
       "    <tr>\n",
       "      <th>...</th>\n",
       "      <td>...</td>\n",
       "      <td>...</td>\n",
       "      <td>...</td>\n",
       "      <td>...</td>\n",
       "      <td>...</td>\n",
       "      <td>...</td>\n",
       "      <td>...</td>\n",
       "    </tr>\n",
       "    <tr>\n",
       "      <th>22706</th>\n",
       "      <td>1</td>\n",
       "      <td>1.0</td>\n",
       "      <td>0</td>\n",
       "      <td>0.00</td>\n",
       "      <td>17.66</td>\n",
       "      <td>7379.44</td>\n",
       "      <td>0.00</td>\n",
       "    </tr>\n",
       "    <tr>\n",
       "      <th>22712</th>\n",
       "      <td>1</td>\n",
       "      <td>1.0</td>\n",
       "      <td>0</td>\n",
       "      <td>0.00</td>\n",
       "      <td>0.00</td>\n",
       "      <td>6911.19</td>\n",
       "      <td>0.00</td>\n",
       "    </tr>\n",
       "    <tr>\n",
       "      <th>22728</th>\n",
       "      <td>1</td>\n",
       "      <td>4.0</td>\n",
       "      <td>999</td>\n",
       "      <td>13.05</td>\n",
       "      <td>0.00</td>\n",
       "      <td>432.07</td>\n",
       "      <td>536.37</td>\n",
       "    </tr>\n",
       "    <tr>\n",
       "      <th>22733</th>\n",
       "      <td>5</td>\n",
       "      <td>500.0</td>\n",
       "      <td>18</td>\n",
       "      <td>16.82</td>\n",
       "      <td>0.00</td>\n",
       "      <td>0.77</td>\n",
       "      <td>153.86</td>\n",
       "    </tr>\n",
       "    <tr>\n",
       "      <th>22735</th>\n",
       "      <td>1</td>\n",
       "      <td>1.0</td>\n",
       "      <td>0</td>\n",
       "      <td>0.00</td>\n",
       "      <td>0.00</td>\n",
       "      <td>36946.90</td>\n",
       "      <td>0.00</td>\n",
       "    </tr>\n",
       "  </tbody>\n",
       "</table>\n",
       "<p>2273 rows × 7 columns</p>\n",
       "</div>"
      ],
      "text/plain": [
       "       ITEM_PROPOSTA      QTD  MESES_BONIF  VL_PCT_DESC_TEMP  VL_PCT_DESCONTO  \\\n",
       "11                11      1.0            0              0.00            17.27   \n",
       "16                 7  12200.0            0              0.00            41.24   \n",
       "18                12     12.0          999             17.66             0.00   \n",
       "33                 1      1.0            0              0.00             0.00   \n",
       "41                 1      1.0            0              0.00             0.00   \n",
       "...              ...      ...          ...               ...              ...   \n",
       "22706              1      1.0            0              0.00            17.66   \n",
       "22712              1      1.0            0              0.00             0.00   \n",
       "22728              1      4.0          999             13.05             0.00   \n",
       "22733              5    500.0           18             16.82             0.00   \n",
       "22735              1      1.0            0              0.00             0.00   \n",
       "\n",
       "       PRC_UNITARIO  VL_DESCONTO_TEMPORARIO  \n",
       "11          7243.58                    0.00  \n",
       "16             0.00                    0.00  \n",
       "18           293.67                 1480.11  \n",
       "33         63484.80                    0.00  \n",
       "41         46803.79                    0.00  \n",
       "...             ...                     ...  \n",
       "22706       7379.44                    0.00  \n",
       "22712       6911.19                    0.00  \n",
       "22728        432.07                  536.37  \n",
       "22733          0.77                  153.86  \n",
       "22735      36946.90                    0.00  \n",
       "\n",
       "[2273 rows x 7 columns]"
      ]
     },
     "execution_count": 118,
     "metadata": {},
     "output_type": "execute_result"
    }
   ],
   "source": [
    "# Fazendo um SLICE no arquivo original filtrando todas as linhas que são outliers (lista de outliers) e todas colunas\n",
    "lista_outliers = df_historico[variaveis_numericas].iloc[outliers,:]\n",
    "lista_outliers"
   ]
  },
  {
   "cell_type": "code",
   "execution_count": 119,
   "id": "e4bfbfb4",
   "metadata": {},
   "outputs": [
    {
     "data": {
      "text/plain": [
       "(2273, 7)"
      ]
     },
     "execution_count": 119,
     "metadata": {},
     "output_type": "execute_result"
    }
   ],
   "source": [
    "lista_outliers.shape # Exibindo o tamanho do DataFrame de outliers"
   ]
  },
  {
   "cell_type": "markdown",
   "id": "63ca342c",
   "metadata": {},
   "source": [
    "# 20. Winsorizando os dados"
   ]
  },
  {
   "cell_type": "markdown",
   "id": "9e542e5e",
   "metadata": {},
   "source": [
    "Após identificar que temos 2273 linhas com outliers, decidimos aplicar o método de Winsorização. \n",
    "\n",
    "Esse método é uma técnica de tratamento de outliers que substitui os valores extremos por valores mais próximos do limite definido. Isso ajuda a reduzir a influência dos outliers na análise estatística e nos modelos preditivos. \n",
    "\n",
    "Trazendo uma análise mais confiável."
   ]
  },
  {
   "cell_type": "code",
   "execution_count": 120,
   "id": "ddd400f9",
   "metadata": {},
   "outputs": [
    {
     "name": "stderr",
     "output_type": "stream",
     "text": [
      "/home/codespace/.local/lib/python3.12/site-packages/numpy/lib/_function_base_impl.py:4842: UserWarning: Warning: 'partition' will ignore the 'mask' of the MaskedArray.\n",
      "  arr.partition(\n",
      "/home/codespace/.local/lib/python3.12/site-packages/numpy/lib/_function_base_impl.py:4842: UserWarning: Warning: 'partition' will ignore the 'mask' of the MaskedArray.\n",
      "  arr.partition(\n",
      "/home/codespace/.local/lib/python3.12/site-packages/numpy/lib/_function_base_impl.py:4842: UserWarning: Warning: 'partition' will ignore the 'mask' of the MaskedArray.\n",
      "  arr.partition(\n",
      "/home/codespace/.local/lib/python3.12/site-packages/numpy/lib/_function_base_impl.py:4842: UserWarning: Warning: 'partition' will ignore the 'mask' of the MaskedArray.\n",
      "  arr.partition(\n",
      "/home/codespace/.local/lib/python3.12/site-packages/numpy/lib/_function_base_impl.py:4842: UserWarning: Warning: 'partition' will ignore the 'mask' of the MaskedArray.\n",
      "  arr.partition(\n",
      "/home/codespace/.local/lib/python3.12/site-packages/numpy/lib/_function_base_impl.py:4842: UserWarning: Warning: 'partition' will ignore the 'mask' of the MaskedArray.\n",
      "  arr.partition(\n",
      "/home/codespace/.local/lib/python3.12/site-packages/numpy/lib/_function_base_impl.py:4842: UserWarning: Warning: 'partition' will ignore the 'mask' of the MaskedArray.\n",
      "  arr.partition(\n",
      "/home/codespace/.local/lib/python3.12/site-packages/numpy/lib/_function_base_impl.py:4842: UserWarning: Warning: 'partition' will ignore the 'mask' of the MaskedArray.\n",
      "  arr.partition(\n",
      "/home/codespace/.local/lib/python3.12/site-packages/numpy/lib/_function_base_impl.py:4842: UserWarning: Warning: 'partition' will ignore the 'mask' of the MaskedArray.\n",
      "  arr.partition(\n",
      "/home/codespace/.local/lib/python3.12/site-packages/numpy/lib/_function_base_impl.py:4842: UserWarning: Warning: 'partition' will ignore the 'mask' of the MaskedArray.\n",
      "  arr.partition(\n"
     ]
    },
    {
     "data": {
      "text/html": [
       "<div>\n",
       "<style scoped>\n",
       "    .dataframe tbody tr th:only-of-type {\n",
       "        vertical-align: middle;\n",
       "    }\n",
       "\n",
       "    .dataframe tbody tr th {\n",
       "        vertical-align: top;\n",
       "    }\n",
       "\n",
       "    .dataframe thead th {\n",
       "        text-align: right;\n",
       "    }\n",
       "</style>\n",
       "<table border=\"1\" class=\"dataframe\">\n",
       "  <thead>\n",
       "    <tr style=\"text-align: right;\">\n",
       "      <th></th>\n",
       "      <th>ITEM_PROPOSTA</th>\n",
       "      <th>DT_UPLOAD</th>\n",
       "      <th>QTD</th>\n",
       "      <th>MESES_BONIF</th>\n",
       "      <th>VL_PCT_DESC_TEMP</th>\n",
       "      <th>VL_PCT_DESCONTO</th>\n",
       "      <th>PRC_UNITARIO</th>\n",
       "      <th>VL_DESCONTO_TEMPORARIO</th>\n",
       "      <th>VL_TOTAL</th>\n",
       "      <th>VL_FULL</th>\n",
       "      <th>VL_DESCONTO</th>\n",
       "    </tr>\n",
       "  </thead>\n",
       "  <tbody>\n",
       "    <tr>\n",
       "      <th>count</th>\n",
       "      <td>22740.000000</td>\n",
       "      <td>22740</td>\n",
       "      <td>22740.000000</td>\n",
       "      <td>22740.000000</td>\n",
       "      <td>22740.000000</td>\n",
       "      <td>22740.000000</td>\n",
       "      <td>22740.000000</td>\n",
       "      <td>22740.000000</td>\n",
       "      <td>2.274000e+04</td>\n",
       "      <td>2.274000e+04</td>\n",
       "      <td>22740.000000</td>\n",
       "    </tr>\n",
       "    <tr>\n",
       "      <th>mean</th>\n",
       "      <td>2.855893</td>\n",
       "      <td>2024-09-20 22:30:23.746701568</td>\n",
       "      <td>27.152309</td>\n",
       "      <td>72.860510</td>\n",
       "      <td>0.802291</td>\n",
       "      <td>4.082079</td>\n",
       "      <td>846.299263</td>\n",
       "      <td>6.606668</td>\n",
       "      <td>4.105135e+03</td>\n",
       "      <td>3.947741e+03</td>\n",
       "      <td>810.021677</td>\n",
       "    </tr>\n",
       "    <tr>\n",
       "      <th>min</th>\n",
       "      <td>1.000000</td>\n",
       "      <td>2024-03-01 00:00:00</td>\n",
       "      <td>1.000000</td>\n",
       "      <td>0.000000</td>\n",
       "      <td>0.000000</td>\n",
       "      <td>0.000000</td>\n",
       "      <td>0.760000</td>\n",
       "      <td>0.000000</td>\n",
       "      <td>0.000000e+00</td>\n",
       "      <td>0.000000e+00</td>\n",
       "      <td>0.000000</td>\n",
       "    </tr>\n",
       "    <tr>\n",
       "      <th>25%</th>\n",
       "      <td>1.000000</td>\n",
       "      <td>2024-06-25 00:00:00</td>\n",
       "      <td>1.000000</td>\n",
       "      <td>0.000000</td>\n",
       "      <td>0.000000</td>\n",
       "      <td>0.000000</td>\n",
       "      <td>24.170000</td>\n",
       "      <td>0.000000</td>\n",
       "      <td>1.117075e+02</td>\n",
       "      <td>6.011000e+01</td>\n",
       "      <td>0.000000</td>\n",
       "    </tr>\n",
       "    <tr>\n",
       "      <th>50%</th>\n",
       "      <td>2.000000</td>\n",
       "      <td>2024-09-27 00:00:00</td>\n",
       "      <td>1.000000</td>\n",
       "      <td>0.000000</td>\n",
       "      <td>0.000000</td>\n",
       "      <td>0.000000</td>\n",
       "      <td>105.100000</td>\n",
       "      <td>0.000000</td>\n",
       "      <td>5.187850e+02</td>\n",
       "      <td>3.817500e+02</td>\n",
       "      <td>0.000000</td>\n",
       "    </tr>\n",
       "    <tr>\n",
       "      <th>75%</th>\n",
       "      <td>4.000000</td>\n",
       "      <td>2024-12-27 00:00:00</td>\n",
       "      <td>14.000000</td>\n",
       "      <td>0.000000</td>\n",
       "      <td>0.000000</td>\n",
       "      <td>4.200000</td>\n",
       "      <td>651.570000</td>\n",
       "      <td>0.000000</td>\n",
       "      <td>2.352753e+03</td>\n",
       "      <td>2.273967e+03</td>\n",
       "      <td>21.020000</td>\n",
       "    </tr>\n",
       "    <tr>\n",
       "      <th>max</th>\n",
       "      <td>10.000000</td>\n",
       "      <td>2025-03-25 00:00:00</td>\n",
       "      <td>250.000000</td>\n",
       "      <td>999.000000</td>\n",
       "      <td>10.510000</td>\n",
       "      <td>24.830000</td>\n",
       "      <td>6053.550000</td>\n",
       "      <td>96.690000</td>\n",
       "      <td>3.573279e+06</td>\n",
       "      <td>2.962229e+06</td>\n",
       "      <td>374796.760000</td>\n",
       "    </tr>\n",
       "    <tr>\n",
       "      <th>std</th>\n",
       "      <td>2.532352</td>\n",
       "      <td>NaN</td>\n",
       "      <td>61.672463</td>\n",
       "      <td>259.232024</td>\n",
       "      <td>2.636283</td>\n",
       "      <td>7.744145</td>\n",
       "      <td>1610.465205</td>\n",
       "      <td>22.997578</td>\n",
       "      <td>3.443398e+04</td>\n",
       "      <td>2.563757e+04</td>\n",
       "      <td>6124.934331</td>\n",
       "    </tr>\n",
       "  </tbody>\n",
       "</table>\n",
       "</div>"
      ],
      "text/plain": [
       "       ITEM_PROPOSTA                      DT_UPLOAD           QTD  \\\n",
       "count   22740.000000                          22740  22740.000000   \n",
       "mean        2.855893  2024-09-20 22:30:23.746701568     27.152309   \n",
       "min         1.000000            2024-03-01 00:00:00      1.000000   \n",
       "25%         1.000000            2024-06-25 00:00:00      1.000000   \n",
       "50%         2.000000            2024-09-27 00:00:00      1.000000   \n",
       "75%         4.000000            2024-12-27 00:00:00     14.000000   \n",
       "max        10.000000            2025-03-25 00:00:00    250.000000   \n",
       "std         2.532352                            NaN     61.672463   \n",
       "\n",
       "        MESES_BONIF  VL_PCT_DESC_TEMP  VL_PCT_DESCONTO  PRC_UNITARIO  \\\n",
       "count  22740.000000      22740.000000     22740.000000  22740.000000   \n",
       "mean      72.860510          0.802291         4.082079    846.299263   \n",
       "min        0.000000          0.000000         0.000000      0.760000   \n",
       "25%        0.000000          0.000000         0.000000     24.170000   \n",
       "50%        0.000000          0.000000         0.000000    105.100000   \n",
       "75%        0.000000          0.000000         4.200000    651.570000   \n",
       "max      999.000000         10.510000        24.830000   6053.550000   \n",
       "std      259.232024          2.636283         7.744145   1610.465205   \n",
       "\n",
       "       VL_DESCONTO_TEMPORARIO      VL_TOTAL       VL_FULL    VL_DESCONTO  \n",
       "count            22740.000000  2.274000e+04  2.274000e+04   22740.000000  \n",
       "mean                 6.606668  4.105135e+03  3.947741e+03     810.021677  \n",
       "min                  0.000000  0.000000e+00  0.000000e+00       0.000000  \n",
       "25%                  0.000000  1.117075e+02  6.011000e+01       0.000000  \n",
       "50%                  0.000000  5.187850e+02  3.817500e+02       0.000000  \n",
       "75%                  0.000000  2.352753e+03  2.273967e+03      21.020000  \n",
       "max                 96.690000  3.573279e+06  2.962229e+06  374796.760000  \n",
       "std                 22.997578  3.443398e+04  2.563757e+04    6124.934331  "
      ]
     },
     "execution_count": 120,
     "metadata": {},
     "output_type": "execute_result"
    }
   ],
   "source": [
    "from scipy.stats.mstats import winsorize # Importando a função de winsorização\n",
    "\n",
    "cols_to_winsorize = df_historico[variaveis_numericas] # Selecionando colunas numéricas para winsorização\n",
    "\n",
    "# Função para aplicar winsorização em uma série\n",
    "def winsorize_series(series, limits=[0.05, 0.05]): # Limites padrão de 5% para cada extremidade\n",
    "    return winsorize(series, limits=limits)\n",
    "\n",
    "# Loop para aplicar winsorização em cada coluna selecionada\n",
    "for col in cols_to_winsorize:\n",
    "    df_historico[col] = winsorize_series(df_historico[col])\n",
    "\n",
    "df_historico.describe()  # Exibe estatísticas descritivas das colunas após winsorização"
   ]
  },
  {
   "cell_type": "code",
   "execution_count": 121,
   "id": "588bee74",
   "metadata": {},
   "outputs": [
    {
     "data": {
      "text/plain": [
       "(22740, 7)"
      ]
     },
     "execution_count": 121,
     "metadata": {},
     "output_type": "execute_result"
    }
   ],
   "source": [
    "df_historico[variaveis_numericas].shape # Exibe o tamanho do DataFrame após winsorização"
   ]
  },
  {
   "cell_type": "markdown",
   "id": "0cfd8fa9",
   "metadata": {},
   "source": [
    "# 21. Exibindo os dados tratados "
   ]
  },
  {
   "cell_type": "code",
   "execution_count": null,
   "id": "3702cd2f",
   "metadata": {},
   "outputs": [
    {
     "data": {
      "image/png": "[encoded data removed]",
      "text/plain": [
       "<Figure size 1000x1000 with 8 Axes>"
      ]
     },
     "metadata": {},
     "output_type": "display_data"
    }
   ],
   "source": [
    "# Parâmetros do gráfico\n",
    "plt.rcParams[\"figure.figsize\"] = [10.00, 10.00]\n",
    "plt.rcParams[\"figure.autolayout\"] = True\n",
    "\n",
    "plt.rcParams['font.size'] = 8 \n",
    "plt.rcParams['axes.titlesize'] = 15\n",
    "\n",
    "f, axes = plt.subplots(2,4) #2 linhas e 4 colunas\n",
    "\n",
    "# Loop para criar boxplots para cada variável numérica após winsorização\n",
    "linha = 0\n",
    "coluna = 0\n",
    "for i in variaveis_numericas:\n",
    "    sns.boxplot(data = df_historico, y=i, ax=axes[linha][coluna])\n",
    "    coluna += 1\n",
    "    if coluna == 4:\n",
    "        linha += 1\n",
    "        coluna = 0   \n",
    "\n",
    "# Exibindo o gráfico\n",
    "plt.show()"
   ]
  },
  {
   "cell_type": "markdown",
   "id": "79c5cfb1",
   "metadata": {},
   "source": [
    "# 22. Conectando ao banco de dados"
   ]
  },
  {
   "cell_type": "code",
   "execution_count": 122,
   "id": "15eee823",
   "metadata": {},
   "outputs": [],
   "source": [
    "#Coleta informações que necessitamos para gerar a conexão com o banco Azure\n",
    "userDBAzure = getpass.getpass(prompt='Azure_Username: ')\n",
    "passwordDBAzure = getpass.getpass(prompt='Azure_Password: ')\n",
    "password_encoded = quote_plus(passwordDBAzure)\n",
    "server = \"ukysynserver.database.windows.net\"\n",
    "db = \"ukysyndb\""
   ]
  },
  {
   "cell_type": "code",
   "execution_count": 123,
   "id": "17aecadb",
   "metadata": {},
   "outputs": [
    {
     "ename": "ModuleNotFoundError",
     "evalue": "No module named 'pyodbc'",
     "output_type": "error",
     "traceback": [
      "\u001b[31m---------------------------------------------------------------------------\u001b[39m",
      "\u001b[31mModuleNotFoundError\u001b[39m                       Traceback (most recent call last)",
      "\u001b[36mCell\u001b[39m\u001b[36m \u001b[39m\u001b[32mIn[123]\u001b[39m\u001b[32m, line 11\u001b[39m\n\u001b[32m      2\u001b[39m params = urllib.parse.quote_plus(\n\u001b[32m      3\u001b[39m     \u001b[33m\"\u001b[39m\u001b[33mDRIVER=\u001b[39m\u001b[33m{\u001b[39m\u001b[33mODBC Driver 17 for SQL Server};\u001b[39m\u001b[33m\"\u001b[39m\n\u001b[32m      4\u001b[39m     \u001b[33mf\u001b[39m\u001b[33m\"\u001b[39m\u001b[33mSERVER=\u001b[39m\u001b[38;5;132;01m{\u001b[39;00mserver\u001b[38;5;132;01m}\u001b[39;00m\u001b[33m;\u001b[39m\u001b[33m\"\u001b[39m\n\u001b[32m   (...)\u001b[39m\u001b[32m      7\u001b[39m     \u001b[33mf\u001b[39m\u001b[33m\"\u001b[39m\u001b[33mPWD=\u001b[39m\u001b[38;5;132;01m{\u001b[39;00mpassword_encoded\u001b[38;5;132;01m}\u001b[39;00m\u001b[33m;\u001b[39m\u001b[33m\"\u001b[39m\n\u001b[32m      8\u001b[39m )\n\u001b[32m     10\u001b[39m \u001b[38;5;66;03m# Cria a engine de conexão com o banco de dados\u001b[39;00m\n\u001b[32m---> \u001b[39m\u001b[32m11\u001b[39m engine = \u001b[43mcreate_engine\u001b[49m\u001b[43m(\u001b[49m\u001b[33;43mf\u001b[39;49m\u001b[33;43m\"\u001b[39;49m\u001b[33;43mmssql+pyodbc:///?odbc_connect=\u001b[39;49m\u001b[38;5;132;43;01m{\u001b[39;49;00m\u001b[43mparams\u001b[49m\u001b[38;5;132;43;01m}\u001b[39;49;00m\u001b[33;43m\"\u001b[39;49m\u001b[43m)\u001b[49m\n",
      "\u001b[36mFile \u001b[39m\u001b[32m<string>:2\u001b[39m, in \u001b[36mcreate_engine\u001b[39m\u001b[34m(url, **kwargs)\u001b[39m\n",
      "\u001b[36mFile \u001b[39m\u001b[32m/usr/local/python/3.12.1/lib/python3.12/site-packages/sqlalchemy/util/deprecations.py:281\u001b[39m, in \u001b[36mdeprecated_params.<locals>.decorate.<locals>.warned\u001b[39m\u001b[34m(fn, *args, **kwargs)\u001b[39m\n\u001b[32m    274\u001b[39m     \u001b[38;5;28;01mif\u001b[39;00m m \u001b[38;5;129;01min\u001b[39;00m kwargs:\n\u001b[32m    275\u001b[39m         _warn_with_version(\n\u001b[32m    276\u001b[39m             messages[m],\n\u001b[32m    277\u001b[39m             versions[m],\n\u001b[32m    278\u001b[39m             version_warnings[m],\n\u001b[32m    279\u001b[39m             stacklevel=\u001b[32m3\u001b[39m,\n\u001b[32m    280\u001b[39m         )\n\u001b[32m--> \u001b[39m\u001b[32m281\u001b[39m \u001b[38;5;28;01mreturn\u001b[39;00m \u001b[43mfn\u001b[49m\u001b[43m(\u001b[49m\u001b[43m*\u001b[49m\u001b[43margs\u001b[49m\u001b[43m,\u001b[49m\u001b[43m \u001b[49m\u001b[43m*\u001b[49m\u001b[43m*\u001b[49m\u001b[43mkwargs\u001b[49m\u001b[43m)\u001b[49m\n",
      "\u001b[36mFile \u001b[39m\u001b[32m/usr/local/python/3.12.1/lib/python3.12/site-packages/sqlalchemy/engine/create.py:602\u001b[39m, in \u001b[36mcreate_engine\u001b[39m\u001b[34m(url, **kwargs)\u001b[39m\n\u001b[32m    600\u001b[39m         \u001b[38;5;28;01mif\u001b[39;00m k \u001b[38;5;129;01min\u001b[39;00m kwargs:\n\u001b[32m    601\u001b[39m             dbapi_args[k] = pop_kwarg(k)\n\u001b[32m--> \u001b[39m\u001b[32m602\u001b[39m     dbapi = \u001b[43mdbapi_meth\u001b[49m\u001b[43m(\u001b[49m\u001b[43m*\u001b[49m\u001b[43m*\u001b[49m\u001b[43mdbapi_args\u001b[49m\u001b[43m)\u001b[49m\n\u001b[32m    604\u001b[39m dialect_args[\u001b[33m\"\u001b[39m\u001b[33mdbapi\u001b[39m\u001b[33m\"\u001b[39m] = dbapi\n\u001b[32m    606\u001b[39m dialect_args.setdefault(\u001b[33m\"\u001b[39m\u001b[33mcompiler_linting\u001b[39m\u001b[33m\"\u001b[39m, compiler.NO_LINTING)\n",
      "\u001b[36mFile \u001b[39m\u001b[32m/usr/local/python/3.12.1/lib/python3.12/site-packages/sqlalchemy/connectors/pyodbc.py:60\u001b[39m, in \u001b[36mPyODBCConnector.import_dbapi\u001b[39m\u001b[34m(cls)\u001b[39m\n\u001b[32m     58\u001b[39m \u001b[38;5;129m@classmethod\u001b[39m\n\u001b[32m     59\u001b[39m \u001b[38;5;28;01mdef\u001b[39;00m\u001b[38;5;250m \u001b[39m\u001b[34mimport_dbapi\u001b[39m(\u001b[38;5;28mcls\u001b[39m) -> ModuleType:\n\u001b[32m---> \u001b[39m\u001b[32m60\u001b[39m     \u001b[38;5;28;01mreturn\u001b[39;00m \u001b[38;5;28;43m__import__\u001b[39;49m\u001b[43m(\u001b[49m\u001b[33;43m\"\u001b[39;49m\u001b[33;43mpyodbc\u001b[39;49m\u001b[33;43m\"\u001b[39;49m\u001b[43m)\u001b[49m\n",
      "\u001b[31mModuleNotFoundError\u001b[39m: No module named 'pyodbc'"
     ]
    }
   ],
   "source": [
    "#Cria os parâmetros para geração da engine de conexão\n",
    "params = urllib.parse.quote_plus(\n",
    "    \"DRIVER={ODBC Driver 17 for SQL Server};\"\n",
    "    f\"SERVER={server};\"\n",
    "    f\"DATABASE={db};\"\n",
    "    f\"UID={userDBAzure};\"\n",
    "    f\"PWD={password_encoded};\"\n",
    ")\n",
    "\n",
    "# Cria a engine de conexão com o banco de dados\n",
    "engine = create_engine(f\"mssql+pyodbc:///?odbc_connect={params}\")"
   ]
  },
  {
   "cell_type": "code",
   "execution_count": null,
   "id": "98f0bad7",
   "metadata": {},
   "outputs": [
    {
     "name": "stdout",
     "output_type": "stream",
     "text": [
      "Conexão estabelecida!\n"
     ]
    }
   ],
   "source": [
    "#Realiza o teste de conexão\n",
    "try:\n",
    "    conn = engine.connect()\n",
    "    print('Conexão estabelecida!')\n",
    "    conn.close()\n",
    "except Exception as e:\n",
    "    print(f'Ocorreu um erro. Erro: {e}')"
   ]
  },
  {
   "cell_type": "markdown",
   "id": "8eed362c",
   "metadata": {},
   "source": [
    "# 21. Inserindo os dados tratados no banco de dados"
   ]
  },
  {
   "cell_type": "code",
   "execution_count": null,
   "id": "6767b2f6",
   "metadata": {},
   "outputs": [],
   "source": [
    "#Cria uma função genérica de inserção para ser usada na inserção de dados das dimensões\n",
    "def insert_data(df, table):\n",
    "    print(f\"Começando o processo de inserção para a tabela {table}!\")\n",
    "    try:\n",
    "        conn = engine.connect()\n",
    "        trans = conn.begin()\n",
    "        df.to_sql(table, con=conn, if_exists='replace', index=False)\n",
    "        print(f\"Inserção concluída com sucesso!\")\n",
    "        trans.commit()\n",
    "        conn.close()\n",
    "    except Exception as e:\n",
    "        trans.rollback()\n",
    "        print(f\"Ocorreu um erro. Erro: {e}\")"
   ]
  },
  {
   "cell_type": "code",
   "execution_count": null,
   "id": "05bfc186",
   "metadata": {},
   "outputs": [
    {
     "name": "stdout",
     "output_type": "stream",
     "text": [
      "Começando o processo de inserção para a tabela SPRINT2_VAREJO!\n",
      "Inserção concluída com sucesso!\n"
     ]
    }
   ],
   "source": [
    "#Inserindo a tabela dados clientes após tratamento como SPRINT2_VAREJO\n",
    "insert_data(df_clientes_varejo_att, 'SPRINT2_VAREJO')"
   ]
  },
  {
   "cell_type": "code",
   "execution_count": null,
   "id": "2cb6ce0a",
   "metadata": {},
   "outputs": [
    {
     "name": "stdout",
     "output_type": "stream",
     "text": [
      "Começando o processo de inserção para a tabela SPRINT2_HISTORICO!\n",
      "Inserção concluída com sucesso!\n"
     ]
    }
   ],
   "source": [
    "#Inserindo a tabela histórico após tratamento como SPRINT2_HISTORICO\n",
    "insert_data(df_historico, 'SPRINT2_HISTORICO')"
   ]
  }
 ],
 "metadata": {
  "kernelspec": {
   "display_name": "Python 3 (ipykernel)",
   "language": "python",
   "name": "python3"
  },
  "language_info": {
   "codemirror_mode": {
    "name": "ipython",
    "version": 3
   },
   "file_extension": ".py",
   "mimetype": "text/x-python",
   "name": "python",
   "nbconvert_exporter": "python",
   "pygments_lexer": "ipython3",
   "version": "3.12.1"
  }
 },
 "nbformat": 4,
 "nbformat_minor": 5
}
